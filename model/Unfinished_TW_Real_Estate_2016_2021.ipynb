{
  "cells": [
    {
      "cell_type": "code",
      "execution_count": null,
      "metadata": {
        "id": "tinFdaDA8QVV"
      },
      "outputs": [],
      "source": [
        "import os\n",
        "import glob\n",
        "import pandas as pd\n",
        "import numpy as np\n",
        "import matplotlib.pyplot as plt\n",
        "import seaborn as sns\n",
        "import re\n",
        "from scipy.stats import skew\n",
        "from scipy import stats\n",
        "from scipy.stats import norm\n",
        "from sklearn.model_selection import cross_val_score, train_test_split, GridSearchCV, ShuffleSplit\n",
        "from sklearn.preprocessing import StandardScaler\n",
        "from sklearn.linear_model import LinearRegression, RidgeCV, LassoCV, ElasticNetCV, Lasso, Ridge, ElasticNet\n",
        "from sklearn.tree import DecisionTreeRegressor\n",
        "from sklearn.metrics import mean_squared_error, make_scorer\n",
        "#os.chdir(\"/mydir\")"
      ]
    },
    {
      "cell_type": "markdown",
      "metadata": {
        "id": "vBwQL7HPz18W"
      },
      "source": [
        "Upload the csv files before running code."
      ]
    },
    {
      "cell_type": "code",
      "execution_count": null,
      "metadata": {
        "id": "C4ZktKWu8ad0"
      },
      "outputs": [],
      "source": [
        "extension = 'csv'\n",
        "all_filenames = [i for i in glob.glob('*.{}'.format(extension))]"
      ]
    },
    {
      "cell_type": "code",
      "execution_count": null,
      "metadata": {
        "id": "5h0I2qi78rN_"
      },
      "outputs": [],
      "source": [
        "#combine all files in the list\n",
        "combined_csv = pd.concat([pd.read_csv(f) for f in all_filenames ])\n",
        "#export to csv\n",
        "combined_csv.to_csv( \"combined_csv.csv\", index=False, encoding='utf-8-sig')"
      ]
    },
    {
      "cell_type": "code",
      "execution_count": null,
      "metadata": {
        "id": "SiIItVOI8x3x"
      },
      "outputs": [],
      "source": [
        "df = combined_csv.copy()"
      ]
    },
    {
      "cell_type": "code",
      "execution_count": null,
      "metadata": {
        "id": "jxHjy3ylAIRU"
      },
      "outputs": [],
      "source": [
        "df = df.drop([0])"
      ]
    },
    {
      "cell_type": "code",
      "execution_count": null,
      "metadata": {
        "id": "KrqAmY3dAO62",
        "colab": {
          "base_uri": "https://localhost:8080/"
        },
        "outputId": "ce42f61a-9265-4097-afc1-bf802fef9962"
      },
      "outputs": [
        {
          "output_type": "stream",
          "name": "stderr",
          "text": [
            "/usr/local/lib/python3.7/dist-packages/pandas/core/frame.py:4174: SettingWithCopyWarning: \n",
            "A value is trying to be set on a copy of a slice from a DataFrame\n",
            "\n",
            "See the caveats in the documentation: https://pandas.pydata.org/pandas-docs/stable/user_guide/indexing.html#returning-a-view-versus-a-copy\n",
            "  errors=errors,\n"
          ]
        }
      ],
      "source": [
        "df.drop(df.columns[[2,5,6,23,26,27,32]], axis = 1, inplace = True)"
      ]
    },
    {
      "cell_type": "code",
      "execution_count": null,
      "metadata": {
        "id": "xOOHUdkkASv-",
        "colab": {
          "base_uri": "https://localhost:8080/"
        },
        "outputId": "8d3db5db-233d-471b-e53d-b5de92eb5ce8"
      },
      "outputs": [
        {
          "output_type": "stream",
          "name": "stderr",
          "text": [
            "/usr/local/lib/python3.7/dist-packages/ipykernel_launcher.py:4: SettingWithCopyWarning: \n",
            "A value is trying to be set on a copy of a slice from a DataFrame\n",
            "\n",
            "See the caveats in the documentation: https://pandas.pydata.org/pandas-docs/stable/user_guide/indexing.html#returning-a-view-versus-a-copy\n",
            "  after removing the cwd from sys.path.\n"
          ]
        }
      ],
      "source": [
        "#df['建築完成年月'].isnull().sum() = 26278 so there should be at least 70k values\n",
        "# length is 135598 - 26278 = 109,320 values that aren't null?\n",
        "#df['建築完成年月'].value_counts() = 9763 unique values\n",
        "df['建築完成年月'].dropna(inplace = True)"
      ]
    },
    {
      "cell_type": "code",
      "execution_count": null,
      "metadata": {
        "id": "aP4fDX_4SMRq",
        "colab": {
          "base_uri": "https://localhost:8080/"
        },
        "outputId": "3f7e6fe3-9695-4157-a303-524a1be4ea35"
      },
      "outputs": [
        {
          "output_type": "stream",
          "name": "stderr",
          "text": [
            "/usr/local/lib/python3.7/dist-packages/pandas/core/frame.py:4174: SettingWithCopyWarning: \n",
            "A value is trying to be set on a copy of a slice from a DataFrame\n",
            "\n",
            "See the caveats in the documentation: https://pandas.pydata.org/pandas-docs/stable/user_guide/indexing.html#returning-a-view-versus-a-copy\n",
            "  errors=errors,\n"
          ]
        }
      ],
      "source": [
        "# too many missing values. You can't really impute and say a building has an elevator or not.\n",
        "# potentially do so for buildings that were built within 10 years, but may not be true\n",
        "# potentially risky to use this hypothesis\n",
        "df.drop(['電梯'], axis = 1, inplace = True)"
      ]
    },
    {
      "cell_type": "code",
      "execution_count": null,
      "metadata": {
        "id": "cuS_QGKySeRb"
      },
      "outputs": [],
      "source": [
        "df.dropna(inplace = True)"
      ]
    },
    {
      "cell_type": "code",
      "execution_count": null,
      "metadata": {
        "id": "jUJyQ9xh0gF6"
      },
      "outputs": [],
      "source": [
        "df.reset_index(drop = True, inplace = True)"
      ]
    },
    {
      "cell_type": "markdown",
      "metadata": {
        "id": "9XY_atlRJRHj"
      },
      "source": [
        "Noticed weird behavior in build date, so looked for weird values and will drop those to prevent weird data in analysis"
      ]
    },
    {
      "cell_type": "code",
      "execution_count": null,
      "metadata": {
        "id": "s1UegID5Afhb"
      },
      "outputs": [],
      "source": [
        "new_tester = df['建築完成年月']\n",
        "# look for weird dates in build date\n",
        "weird = []\n",
        "for i in range(len(new_tester)):\n",
        "  if len(new_tester.iloc[i]) < 6:\n",
        "    weird.append(i)"
      ]
    },
    {
      "cell_type": "code",
      "execution_count": null,
      "metadata": {
        "colab": {
          "base_uri": "https://localhost:8080/"
        },
        "id": "UoW0u4T0OXZI",
        "outputId": "ede48de3-cc92-40bd-eb0c-d9e425f0bc61"
      },
      "outputs": [
        {
          "output_type": "execute_result",
          "data": {
            "text/plain": [
              "739       05701\n",
              "10123     06212\n",
              "15199     05807\n",
              "25417     07306\n",
              "28828       030\n",
              "31795     05305\n",
              "49683       018\n",
              "52626     06212\n",
              "62901       049\n",
              "66509     05807\n",
              "73362     04410\n",
              "80372       031\n",
              "92530     07002\n",
              "104807      034\n",
              "Name: 建築完成年月, dtype: object"
            ]
          },
          "metadata": {},
          "execution_count": 12
        }
      ],
      "source": [
        "# 14 weird values with build date length < 6\n",
        "# incomprehensible dates so remove\n",
        "new_tester[weird]"
      ]
    },
    {
      "cell_type": "code",
      "execution_count": null,
      "metadata": {
        "id": "qB25ks8gTCDc"
      },
      "outputs": [],
      "source": [
        "df.drop(weird, axis = 0, inplace=True)"
      ]
    },
    {
      "cell_type": "code",
      "execution_count": null,
      "metadata": {
        "id": "6daP9I1xUegW"
      },
      "outputs": [],
      "source": [
        "# reset index so when removing other rows will be more tidy\n",
        "df.reset_index(drop = True, inplace = True)"
      ]
    },
    {
      "cell_type": "code",
      "execution_count": null,
      "metadata": {
        "colab": {
          "base_uri": "https://localhost:8080/"
        },
        "id": "eBpo9i3sOxF5",
        "outputId": "f9436949-a2b5-407a-8ff8-6bafc96ec548"
      },
      "outputs": [
        {
          "output_type": "execute_result",
          "data": {
            "text/plain": [
              "60776    076  03\n",
              "Name: 建築完成年月, dtype: object"
            ]
          },
          "metadata": {},
          "execution_count": 15
        }
      ],
      "source": [
        "# look for weird spaces (dates shouldn't have spaces here)\n",
        "# 10148 should be removed\n",
        "new_tester = df['建築完成年月']\n",
        "new_tester[new_tester.str.contains(' ') == True]\n",
        "#new_tester[new_tester.str.contains('076  03') == True]"
      ]
    },
    {
      "cell_type": "code",
      "source": [
        "df.drop(df[df['建築完成年月'].str.contains('076  03') == True].index, axis = 0, inplace = True)"
      ],
      "metadata": {
        "id": "Bl0rCgLrzFWq"
      },
      "execution_count": null,
      "outputs": []
    },
    {
      "cell_type": "code",
      "execution_count": null,
      "metadata": {
        "colab": {
          "base_uri": "https://localhost:8080/"
        },
        "id": "gjV2eeRBy7Cb",
        "outputId": "7d0e92ac-65bc-4c26-d580-07a8f0c38e0e"
      },
      "outputs": [
        {
          "output_type": "stream",
          "name": "stderr",
          "text": [
            "/usr/local/lib/python3.7/dist-packages/pandas/core/indexing.py:670: SettingWithCopyWarning: \n",
            "A value is trying to be set on a copy of a slice from a DataFrame\n",
            "\n",
            "See the caveats in the documentation: https://pandas.pydata.org/pandas-docs/stable/user_guide/indexing.html#returning-a-view-versus-a-copy\n",
            "  iloc._setitem_with_indexer(indexer, value)\n"
          ]
        }
      ],
      "source": [
        "# change TW date into normal date format\n",
        "for i in range(len(df['建築完成年月'])):\n",
        "  df['建築完成年月'].iloc[i] = str(int(df['建築完成年月'].iloc[i]) + 19110000)"
      ]
    },
    {
      "cell_type": "code",
      "execution_count": null,
      "metadata": {
        "id": "SBeBvnPg8lpD"
      },
      "outputs": [],
      "source": [
        "df['建築完成年月'] = pd.to_datetime(df['建築完成年月'])"
      ]
    },
    {
      "cell_type": "code",
      "execution_count": null,
      "metadata": {
        "colab": {
          "base_uri": "https://localhost:8080/"
        },
        "id": "-1cI-D-uV-ci",
        "outputId": "0801064b-42d1-4e68-ed97-234df68c67ca"
      },
      "outputs": [
        {
          "output_type": "execute_result",
          "data": {
            "text/plain": [
              "0        1992-10-06\n",
              "1        2017-05-11\n",
              "2        1999-01-19\n",
              "3        2016-10-21\n",
              "4        2016-10-21\n",
              "            ...    \n",
              "106895   1998-01-19\n",
              "106896   1995-08-21\n",
              "106897   1995-10-30\n",
              "106898   1981-01-30\n",
              "106899   1986-05-19\n",
              "Name: 建築完成年月, Length: 106899, dtype: datetime64[ns]"
            ]
          },
          "metadata": {},
          "execution_count": 19
        }
      ],
      "source": [
        "df['建築完成年月'] "
      ]
    },
    {
      "cell_type": "code",
      "execution_count": null,
      "metadata": {
        "id": "91q4HMhGWAWc"
      },
      "outputs": [],
      "source": [
        "# look for weird date patterns in transaction date\n",
        "# values that are < 6\n",
        "new_tester = df['交易年月日']\n",
        "weird = []\n",
        "for i in range(len(new_tester)):\n",
        "  if len(new_tester.iloc[i]) < 6:\n",
        "    weird.append(i)"
      ]
    },
    {
      "cell_type": "code",
      "execution_count": null,
      "metadata": {
        "colab": {
          "base_uri": "https://localhost:8080/"
        },
        "id": "6C1y3t7nfe95",
        "outputId": "7cfa063b-7638-438f-c304-16d3b1b47198"
      },
      "outputs": [
        {
          "output_type": "execute_result",
          "data": {
            "text/plain": [
              "Series([], Name: 交易年月日, dtype: object)"
            ]
          },
          "metadata": {},
          "execution_count": 21
        }
      ],
      "source": [
        "df['交易年月日'][weird]"
      ]
    },
    {
      "cell_type": "code",
      "execution_count": null,
      "metadata": {
        "colab": {
          "base_uri": "https://localhost:8080/"
        },
        "id": "owgCsMJpfuMC",
        "outputId": "9e0ea692-dd42-45ff-8fa6-5d94c004f447"
      },
      "outputs": [
        {
          "output_type": "execute_result",
          "data": {
            "text/plain": [
              "Series([], Name: 交易年月日, dtype: object)"
            ]
          },
          "metadata": {},
          "execution_count": 22
        }
      ],
      "source": [
        "new_tester[new_tester.str.contains(' ') == True]"
      ]
    },
    {
      "cell_type": "code",
      "execution_count": null,
      "metadata": {
        "colab": {
          "base_uri": "https://localhost:8080/"
        },
        "id": "2TjfB2MyVAYF",
        "outputId": "801a61b1-da48-43d0-8b06-1d55798cc504"
      },
      "outputs": [
        {
          "output_type": "execute_result",
          "data": {
            "text/plain": [
              "23140    1090000\n",
              "Name: 交易年月日, dtype: object"
            ]
          },
          "metadata": {},
          "execution_count": 23
        }
      ],
      "source": [
        "# look for weird 0000 patterns\n",
        "df['交易年月日'][df['交易年月日'].str.contains('0000') == True]"
      ]
    },
    {
      "cell_type": "code",
      "execution_count": null,
      "metadata": {
        "id": "bDzOapFYh7Gq"
      },
      "outputs": [],
      "source": [
        "df.drop(df[df['交易年月日'].str.contains('1090000') == True].index, axis = 0, inplace = True)"
      ]
    },
    {
      "cell_type": "code",
      "execution_count": null,
      "metadata": {
        "colab": {
          "base_uri": "https://localhost:8080/"
        },
        "id": "NsDVGBXQf8CO",
        "outputId": "dd6768aa-ce6c-4f68-9029-14a6aec0b97d"
      },
      "outputs": [
        {
          "output_type": "stream",
          "name": "stderr",
          "text": [
            "/usr/local/lib/python3.7/dist-packages/pandas/core/indexing.py:670: SettingWithCopyWarning: \n",
            "A value is trying to be set on a copy of a slice from a DataFrame\n",
            "\n",
            "See the caveats in the documentation: https://pandas.pydata.org/pandas-docs/stable/user_guide/indexing.html#returning-a-view-versus-a-copy\n",
            "  iloc._setitem_with_indexer(indexer, value)\n"
          ]
        }
      ],
      "source": [
        "for i in range(len(df['交易年月日'])):\n",
        "  df['交易年月日'].iloc[i] = str(int(df['交易年月日'].iloc[i]) + 19110000)"
      ]
    },
    {
      "cell_type": "code",
      "execution_count": null,
      "metadata": {
        "id": "MED_oQPzgPR3"
      },
      "outputs": [],
      "source": [
        "df['交易年月日'] = pd.to_datetime(df['交易年月日'])"
      ]
    },
    {
      "cell_type": "code",
      "execution_count": null,
      "metadata": {
        "id": "DAffizQdiIvj"
      },
      "outputs": [],
      "source": [
        "df.reset_index(drop = True, inplace = True)"
      ]
    },
    {
      "cell_type": "code",
      "execution_count": null,
      "metadata": {
        "id": "qgqc3cWtiOEh"
      },
      "outputs": [],
      "source": [
        "# converting features that should be numeric to numeric\n",
        "df.iloc[:,[2,12,13,14,15,18,19,20,21]] = df.iloc[:,[2,12,13,14,15,18,19,20,21]].apply(pd.to_numeric)"
      ]
    },
    {
      "cell_type": "code",
      "execution_count": null,
      "metadata": {
        "id": "uYPv-6ihkakw"
      },
      "outputs": [],
      "source": [
        "# removing price and price per sqft from features\n",
        "# storing them into own separate columns\n",
        "y = df.iloc[:,18]\n",
        "price_per_sqft = df.iloc[:,19]\n",
        "df.drop(df.iloc[:,[18,19]], axis = 1, inplace = True)\n"
      ]
    },
    {
      "cell_type": "code",
      "execution_count": null,
      "metadata": {
        "colab": {
          "base_uri": "https://localhost:8080/"
        },
        "id": "5hR7vluCicN6",
        "outputId": "8117e332-830a-4e47-b717-b95808670943"
      },
      "outputs": [
        {
          "output_type": "stream",
          "name": "stdout",
          "text": [
            "<class 'pandas.core.frame.DataFrame'>\n",
            "RangeIndex: 106898 entries, 0 to 106897\n",
            "Data columns (total 23 columns):\n",
            " #   Column         Non-Null Count   Dtype         \n",
            "---  ------         --------------   -----         \n",
            " 0   鄉鎮市區           106898 non-null  object        \n",
            " 1   交易標的           106898 non-null  object        \n",
            " 2   土地移轉總面積平方公尺    106898 non-null  float64       \n",
            " 3   都市土地使用分區       106898 non-null  object        \n",
            " 4   交易年月日          106898 non-null  datetime64[ns]\n",
            " 5   交易筆棟數          106898 non-null  object        \n",
            " 6   移轉層次           106898 non-null  object        \n",
            " 7   總樓層數           106898 non-null  object        \n",
            " 8   建物型態           106898 non-null  object        \n",
            " 9   主要用途           106898 non-null  object        \n",
            " 10  主要建材           106898 non-null  object        \n",
            " 11  建築完成年月         106898 non-null  datetime64[ns]\n",
            " 12  建物移轉總面積平方公尺    106898 non-null  float64       \n",
            " 13  建物現況格局-房       106898 non-null  int64         \n",
            " 14  建物現況格局-廳       106898 non-null  int64         \n",
            " 15  建物現況格局-衛       106898 non-null  int64         \n",
            " 16  建物現況格局-隔間      106898 non-null  object        \n",
            " 17  有無管理組織         106898 non-null  object        \n",
            " 18  車位移轉總面積(平方公尺)  106898 non-null  float64       \n",
            " 19  車位總價元          106898 non-null  int64         \n",
            " 20  主建物面積          106898 non-null  float64       \n",
            " 21  附屬建物面積         106898 non-null  float64       \n",
            " 22  陽台面積           106898 non-null  float64       \n",
            "dtypes: datetime64[ns](2), float64(6), int64(4), object(11)\n",
            "memory usage: 18.8+ MB\n"
          ]
        }
      ],
      "source": [
        "df.info()"
      ]
    },
    {
      "cell_type": "code",
      "execution_count": null,
      "metadata": {
        "id": "GRi2w5KNjtDx"
      },
      "outputs": [],
      "source": [
        "# change column names to english to prevent boxes in graphs\n",
        "eng_col = ['district', 'transaction type', 'land shifting total area sqm', 'zoning', 'transaction date', 'transaction pen no', 'floor', 'building floor total', \n",
        "           'building state', 'main use', 'main building materials', 'build date', 'building shifting total area', 'building situation - room', 'building situation - hall', \n",
        "           'building situation - bath', 'building situation - compartment', 'management committee', 'parking sqm', 'parking spot price', 'main building area', \n",
        "           'ancilliary building area', 'balcony area']\n",
        "df.columns = eng_col"
      ]
    },
    {
      "cell_type": "code",
      "execution_count": null,
      "metadata": {
        "id": "YSAjZOZn7QEg"
      },
      "outputs": [],
      "source": [
        "# replacing CN to EN categories for district\n",
        "replacers = {'文山區':'Wenshan District', '中山區':'Zhongshan District', '中正區':'Zhongzheng District', '信義區':'Xinyi District', '內湖區':'Neihu District', '北投區':'Beitou District', \n",
        "             '南港區':'Nangang District', '士林區': 'Shilin District', '大同區':'Datong District', '大安區':'Daan District', '文山區':'Wenshan District', '萬華區':'Wanhua District',\n",
        "             '松山區':'Songshan District'}\n",
        "df['district'] = df['district'].replace(replacers)"
      ]
    },
    {
      "cell_type": "code",
      "execution_count": null,
      "metadata": {
        "id": "KjYrAQUw7Tq5"
      },
      "outputs": [],
      "source": [
        "# replacing CN to EN for transaction type\n",
        "replacers = {'房地(土地+建物)':'land and building', '房地(土地+建物)+車位':'land and building and parking', '建物':'building'}\n",
        "df['transaction type'] = df['transaction type'].replace(replacers)"
      ]
    },
    {
      "cell_type": "code",
      "execution_count": null,
      "metadata": {
        "id": "G0tzXbRJ7Y2v"
      },
      "outputs": [],
      "source": [
        "# replacing building floor total\n",
        "# may need to come back and change int to str\n",
        "replacers = {'一層':1, '二層':2, '三層':3, '四層':4, '五層':5, '六層':6, '七層':7, '八層':8,'九層':9,'十層':10,'十一層':11, '十二層':12, '十三層':13, '十四層':14, '十五層':15, '十六層':16, '十七層':17, '十八層':18, '十九層':19,\n",
        "             '二十層':20, '二十一層':21, '二十二層':22, '二十三層':23, '二十四層':24, '二十五層':25, '二十六層':26, '二十七層':27, '二十八層':28, '二十九層':29, '三十層':30, '三十一層':31, '三十二層':32, '三十三層':33, '三十四層':34,\n",
        "             '三十五層':35,'三十六層':36,'三十七層':37,'三十八層':38,'三十九層':39,'四十層':40,'四十一層':41,'四十二層':42}\n",
        "df['building floor total'] = df['building floor total'].replace(replacers)"
      ]
    },
    {
      "cell_type": "code",
      "execution_count": null,
      "metadata": {
        "colab": {
          "base_uri": "https://localhost:8080/"
        },
        "id": "gdz5FPhyI_or",
        "outputId": "ef96a48f-c0ea-469f-82f8-2cdb4c9f9328"
      },
      "outputs": [
        {
          "output_type": "stream",
          "name": "stderr",
          "text": [
            "/usr/local/lib/python3.7/dist-packages/ipykernel_launcher.py:2: SettingWithCopyWarning: \n",
            "A value is trying to be set on a copy of a slice from a DataFrame\n",
            "\n",
            "See the caveats in the documentation: https://pandas.pydata.org/pandas-docs/stable/user_guide/indexing.html#returning-a-view-versus-a-copy\n",
            "  \n"
          ]
        }
      ],
      "source": [
        "# too many types of zones, so for urban others, can shove everything into just urban others\n",
        "df['zoning'][df['zoning'].str.contains('都市：其他')==True] = '都市：其他'\n",
        "# replacing CN to EN for zoning\n",
        "replacers = {'住':'residential', '商':'commercial', '其他':'other', '工':'industrial', '都市：其他':'urban:other', '都市：商':'urban:commercial', '都市：住':'urban:residential', '非都市： ; 非都市編定：':'non-urban', '農':'farm'}\n",
        "df['zoning'] = df['zoning'].replace(replacers)"
      ]
    },
    {
      "cell_type": "code",
      "execution_count": null,
      "metadata": {
        "id": "TXvCnoX-NHX3"
      },
      "outputs": [],
      "source": [
        "# replacing building situation - compartment from CN to EN\n",
        "replacers = {'有':'Yes', '無':'No'}\n",
        "df['building situation - compartment'] = df['building situation - compartment'].replace(replacers)"
      ]
    },
    {
      "cell_type": "code",
      "execution_count": null,
      "metadata": {
        "id": "dplmFnysOUYw"
      },
      "outputs": [],
      "source": [
        "# replacing CN to EN for management committee\n",
        "replacers = {'有':'Yes', '無':'No'}\n",
        "df['management committee'] = df['management committee'].replace(replacers)"
      ]
    },
    {
      "cell_type": "code",
      "execution_count": null,
      "metadata": {
        "colab": {
          "base_uri": "https://localhost:8080/"
        },
        "id": "NC4_Bz0x2NPF",
        "outputId": "2f86f73a-6482-4269-8e1d-40ffe5f346da"
      },
      "outputs": [
        {
          "output_type": "stream",
          "name": "stderr",
          "text": [
            "/usr/local/lib/python3.7/dist-packages/pandas/core/indexing.py:670: SettingWithCopyWarning: \n",
            "A value is trying to be set on a copy of a slice from a DataFrame\n",
            "\n",
            "See the caveats in the documentation: https://pandas.pydata.org/pandas-docs/stable/user_guide/indexing.html#returning-a-view-versus-a-copy\n",
            "  iloc._setitem_with_indexer(indexer, value)\n"
          ]
        }
      ],
      "source": [
        "# simplified transactions with multiple floor deals?\n",
        "# may lose information\n",
        "for i in range(len(df['floor'])):\n",
        "  if len(df['floor'].iloc[i].split('，')) > 1:\n",
        "    df['floor'].iloc[i] = 'More than 1 Floor'"
      ]
    },
    {
      "cell_type": "code",
      "execution_count": null,
      "metadata": {
        "id": "PMvY6xhHMNaV"
      },
      "outputs": [],
      "source": [
        "# replacing CN to EN for floor\n",
        "# given above we have 'More than 1 floor', changed everything to str\n",
        "replacers = {'一層':1, '二層':2, '三層':3, '四層':4, '五層':5, '六層':6, '七層':7, '八層':8,'九層':9,'十層':10,'十一層':11, '十二層':12, '十三層':13, '十四層':14, '十五層':15, '十六層':16, '十七層':17, '十八層':18, '十九層':19,\n",
        "             '二十層':20, '二十一層':21, '二十二層':22, '二十三層':23, '二十四層':24, '二十五層':25, '二十六層':26, '二十七層':27, '二十八層':28, '二十九層':29, '三十層':30, '三十一層':31, '三十二層':32, '三十三層':33, '三十四層':34,\n",
        "             '三十五層':35,'三十六層':36,'三十七層':37,'三十八層':38,'三十九層':39,'四十層':40,'四十一層':41,'四十二層':42, '防空避難室':'Bomb Shelter', '地下層':'Basement', '地下一層':'B1', '地下二層':'B2', '地下三層':'B3',\n",
        "             '地下四層':'B4','地下五層':'B5','屋頂突出物':'Rooftop item','見使用執照': 'Other', '見其他登記事項':'Other', '全':'Other', '夾層':'Other'}\n",
        "df['floor'] = df['floor'].replace(replacers)"
      ]
    },
    {
      "cell_type": "code",
      "execution_count": null,
      "metadata": {
        "id": "LFK3hhBViiFE"
      },
      "outputs": [],
      "source": [
        "df['floor'] = df['floor'].astype(str)"
      ]
    },
    {
      "cell_type": "code",
      "execution_count": null,
      "metadata": {
        "colab": {
          "base_uri": "https://localhost:8080/"
        },
        "id": "PpN4klUG4kpa",
        "outputId": "96a885cb-960d-4f0a-d205-020729a1a509"
      },
      "outputs": [
        {
          "output_type": "execute_result",
          "data": {
            "text/plain": [
              "array(['11', '25', '2', '8', '5', '9', 'More than 1 Floor', '4', '7', '6',\n",
              "       '16', '3', '12', '13', '10', '14', '1', '18', 'Basement', 'Other',\n",
              "       '17', '15', '22', '24', 'B1', 'B3', '20', '23', '19', 'B2', '21',\n",
              "       '26', '28', '29', 'Bomb Shelter', '30', '27', '35', '31', '32',\n",
              "       'B4', 'Rooftop item', '33', '34', '40', '36', '37', '42', 'B5'],\n",
              "      dtype=object)"
            ]
          },
          "metadata": {},
          "execution_count": 41
        }
      ],
      "source": [
        "df['floor'].unique()"
      ]
    },
    {
      "cell_type": "code",
      "execution_count": null,
      "metadata": {
        "colab": {
          "base_uri": "https://localhost:8080/"
        },
        "id": "20fORETc5SZ9",
        "outputId": "cc949b60-7720-4930-8752-674eef77e177"
      },
      "outputs": [
        {
          "output_type": "execute_result",
          "data": {
            "text/plain": [
              "array(['住宅大樓(11層含以上有電梯)', '公寓(5樓含以下無電梯)', '套房(1房1廳1衛)', '店面(店鋪)',\n",
              "       '華廈(10層含以下有電梯)', '辦公商業大樓', '其他', '透天厝', '廠辦'], dtype=object)"
            ]
          },
          "metadata": {},
          "execution_count": 42
        }
      ],
      "source": [
        "df['building state'].unique()"
      ]
    },
    {
      "cell_type": "code",
      "execution_count": null,
      "metadata": {
        "id": "9_QKQhm45Vkr"
      },
      "outputs": [],
      "source": [
        "# replacing CN to EN for building state\n",
        "# high-rise, apartment, condo,\n",
        "# administrative office in factory, townhouse, other, commercial\n",
        "# Somewhat INCOMPLETE\n",
        "replacers = {'住宅大樓(11層含以上有電梯)': 'Residential Building (11F+ w/ Elevator)', '公寓(5樓含以下無電梯)':'Apartment (Within 5F or lower w/o Elevator)', \n",
        "             '華廈(10層含以下有電梯)':'Apartment (within 10F w/ Elevator)', '廠辦':'Admin office in Factory', '透天厝':'Townhouse', '其他':'Other', '店面(店鋪)':'Storefront',\n",
        "             '套房(1房1廳1衛)':'Suite', '辦公商業大樓':'Commercial Building'}\n",
        "df['building state'] = df['building state'].replace(replacers)"
      ]
    },
    {
      "cell_type": "code",
      "execution_count": null,
      "metadata": {
        "id": "J2DBoZNh5iZF",
        "colab": {
          "base_uri": "https://localhost:8080/"
        },
        "outputId": "9c15402a-d5f1-44fb-e0e2-8e27e7924cf9"
      },
      "outputs": [
        {
          "output_type": "execute_result",
          "data": {
            "text/plain": [
              "array(['Residential Building (11F+ w/ Elevator)',\n",
              "       'Apartment (Within 5F or lower w/o Elevator)', 'Suite',\n",
              "       'Storefront', 'Apartment (within 10F w/ Elevator)',\n",
              "       'Commercial Building', 'Other', 'Townhouse',\n",
              "       'Admin office in Factory'], dtype=object)"
            ]
          },
          "metadata": {},
          "execution_count": 44
        }
      ],
      "source": [
        "df['building state'].unique()"
      ]
    },
    {
      "cell_type": "code",
      "execution_count": null,
      "metadata": {
        "id": "AiOdfrXTMulQ",
        "colab": {
          "base_uri": "https://localhost:8080/"
        },
        "outputId": "80449678-822b-415b-eeba-b2412da88715"
      },
      "outputs": [
        {
          "output_type": "execute_result",
          "data": {
            "text/plain": [
              "array(['商業用', '見其他登記事項', '國民住宅', '住家用', '住商用', '見使用執照', '工業用', '停車空間',\n",
              "       '住工用', '工商用', '一般事務所', '集合住宅', '農舍', '第２１組飲食業', '辦公室',\n",
              "       '一般事務所（Ｇ－２）', '其他', '辦公用', '住商辦用', '農業用', '（Ｈ２）集合住宅',\n",
              "       '餐廳、地下室、防空避難室', '商店、變電室、防空避難室', '多戶住宅、住宅', '日常服務業', '一般零售業（甲組及乙組）',\n",
              "       '集合住宅、樓梯間、外廊、水箱、自有機械工具房、停車空間', '一般零售業甲乙組，（Ｇ３）', '一般零售業甲組',\n",
              "       '金融保險業（不含銀行、合作社）', '地下室', '策略型產業、（供第一目：資訊服務業使用）',\n",
              "       '策略性產業（Ｇ２）（資訊服務業）', '策略性產業（資訊服務業）', '多戶住宅', '員工宿舍',\n",
              "       '一般零售業甲組（G3）（不含日用百貨）', '一般零售業甲組（除便利商店以外）', 'Ｈ－２類第２組多戶住宅', '多戶集合住宅',\n",
              "       '策略性產業（Ｇ２資訊服務業）', '自由職業事務所', '多戶住宅，（Ｈ２）集合住宅', '第二組多戶住宅',\n",
              "       '策略性產業〈２８組資訊服務業〉', '旅遊及運輸服務業、醫療保健服務業', '策略性產業〈作資訊服務業，剪接錄音工作室之使用〉',\n",
              "       '一般事務所（工業區）', '一般事務所（Ｇ２）', '防空避難室', '一般零售業', '策略性產業', 'Ｈ２多戶住宅',\n",
              "       '社會福利設施（產後護理機構）', '公寓', '多戶住宅、集合住宅', '策略性產業（產品展示服務業）',\n",
              "       '公害輕微之工業（廠房）﹝不含液化石油氣、汽車改裝業及汽車修理（甲種汽車修理廠）業﹞', '農舍、水箱',\n",
              "       '策略性產業〈資訊服務業〉', '自由職業事務所（不含文化藝術工作室）', '一般零售業甲組（不含日用百貨）', '日常用品零售業',\n",
              "       '策略性產業（資訊服務業）／（Ｇ２）辦公場所', '策略性產業作資訊服務業，剪接錄音工作室行業之使用', '集合住宅、停車空間',\n",
              "       '策略性產業﹝資訊服務業﹞', '集合住宅（Ｈ２）', '多戶住宅，集合住宅', '策略性產業（資訊服務業）一般辦公室', '住宅',\n",
              "       '日常零售業', '（Ｈ２）集合住宅，第二組：多戶住宅', '一般零售業（甲組）', '多戶住宅，住宅',\n",
              "       '一般零售業甲組（不含便利商店、日用百貨）', 'Ｈ２第二組多戶住宅', '一般零售業甲組（不含日用百貨業）', '倉儲業',\n",
              "       '集合住宅、機房、水箱、停車空間', '作業廠房（公害較輕微之工業）', '一般零售業甲組（不含便利商店使用）',\n",
              "       '策略性產業（資訊服務業、剪接錄音工作室）', '資訊服務業', '金融保險業', '一般零售業（甲組）（不含便利商店）',\n",
              "       '策略性產業（產品包裝設計業）', '一般零售業〈甲組〉', '第二組多戶住宅（二）集合住宅', '健身服務業',\n",
              "       '日常用品零售業（Ｇ３）（日用百貨）',\n",
              "       '一般事務所，供商談、接洽、處理一般事務之場所，一般事務所細目應不包含補習班（營業樓地板面積不超過２００平方公尺）．計程車．小客車租賃業．',\n",
              "       '醫事技術業', '第２組多戶住宅', '一般零售業甲組（不含便利商店）', '（Ｇ３）醫療保健服務業（醫事技術業）',\n",
              "       '多戶住宅（二）集合住宅', '第二組：多戶住宅（二）集合住宅（Ｈ２）', '辦公大樓', '一層：車庫；二～四層：住宅',\n",
              "       '娛樂服務業〈不含電動玩具店及舞場使用〉', '醫療保健服務業（不含精神病院）', '多戶住宅（第二組）',\n",
              "       '一般零售業（甲組）Ｇ３不做便利商店使用', '（第２８組）一般事務所', '住宅，（Ｈ２）多戶住宅',\n",
              "       '一般零售業（甲組）（不含日用百貨）', '集合住宅停車空間', '店舖', '１至４層集合住宅地下一層防空避難室',\n",
              "       'Ｈ２集合住宅', '一般零售業甲組，不含便利商店；獨立住宅，住宅', '第２８組一般事務所',\n",
              "       '一般工廠、第５１組：公害最輕微之工業', '一般零售業甲組（Ｇ３）（日用百貨除外）',\n",
              "       '第一層：一般零售業甲組（便利商店除外）；第一層夾層：一般零售業甲組（便利商店除外）；第二層：一般事務所。',\n",
              "       '一般零售業甲組一般零售業乙組（日用百貨除外）', '作業廠房，公害最輕微之工業', '（Ｇ２）策略性產業',\n",
              "       '第２８組（Ｇ２）一般事務所（第１５、１６項除外）', '獨立、雙併住宅、住宅、樓梯間、機械室、機房、水箱',\n",
              "       '貳層至肆層：集合住宅；壹層：連棟住宅；屋頂突出物：樓梯間', '自由業事務所', '一般事務所，供商談、接洽、處理一般事務之場所',\n",
              "       '獨立、雙併住宅、樓梯間、水箱', '店鋪、集合住宅', '獨立住宅', '一般事務所，機房', '住宅、停車空間、水箱',\n",
              "       '一至三層：集合住宅、屋突一層：樓梯間、屋突二層：水箱', '集合住宅，多戶住宅', '一般零售業（甲組，排除日常百貨）',\n",
              "       '一層工業用、二至四層住家用', '策略性產業之資訊服務業事務所', '飲食店及防空避難室'], dtype=object)"
            ]
          },
          "metadata": {},
          "execution_count": 45
        }
      ],
      "source": [
        "# too complex\n",
        "# don't really see pattern\n",
        "df['main use'].unique()\n",
        "# should drop main use"
      ]
    },
    {
      "cell_type": "code",
      "execution_count": null,
      "metadata": {
        "id": "moeHmU9C7daL"
      },
      "outputs": [],
      "source": [
        "# simplified transactions with multiple floor deals?\n",
        "# may lose information\n",
        "# for i in range(len(df['main use'])):\n",
        "#   if len(df['main use'].iloc[i].split('、')) > 1:\n",
        "#     df['main use'].iloc[i] = 'More than 1 Use'\n",
        "\n",
        "# # too many types of main uses, so for urban others, can shove everything into just urban others\n",
        "# df['main use'][df['main use'].str.contains('策略性產業')==True] = '策略性產業'\n",
        "# df['main use'][df['main use'].str.contains('一般事務所')==True] = '一般事務所'\n",
        "# df['main use'][df['main use'].str.contains('一般零售')==True] = '一般零售'\n",
        "# df['main use'][df['main use'].str.contains('多戶住宅')==True] = '多戶住宅'\n",
        "# df['main use'][df['main use'].str.contains('自由職業事務所')==True] = '自由職業事務所'\n",
        "\n",
        "# consider removing main use due to overlap with zoning?\n",
        "df.drop(['main use'], axis = 1, inplace = True)"
      ]
    },
    {
      "cell_type": "code",
      "execution_count": null,
      "metadata": {
        "id": "yG6Wb_gWYO0O",
        "colab": {
          "base_uri": "https://localhost:8080/"
        },
        "outputId": "7f80aec9-96cd-4560-8e2a-3fbb6ea96da8"
      },
      "outputs": [
        {
          "output_type": "execute_result",
          "data": {
            "text/plain": [
              "array(['土地1建物1車位0', '土地1建物1車位1', '土地1建物1車位2', '土地1建物2車位1', '土地1建物1車位3',\n",
              "       '土地2建物1車位0', '土地1建物2車位0', '土地3建物1車位0', '土地2建物1車位1', '土地4建物1車位1',\n",
              "       '土地4建物1車位0', '土地1建物1車位4', '土地3建物1車位1', '土地5建物1車位0', '土地28建物1車位0',\n",
              "       '土地5建物1車位1', '土地8建物1車位0', '土地2建物1車位2', '土地2建物1車位3', '土地5建物1車位2',\n",
              "       '土地1建物3車位0', '土地2建物2車位1', '土地1建物7車位1', '土地6建物1車位0', '土地1建物2車位2',\n",
              "       '土地0建物1車位0', '土地1建物5車位0', '土地2建物2車位0', '土地1建物2車位4', '土地3建物2車位0',\n",
              "       '土地1建物7車位34', '土地3建物1車位2', '土地1建物1車位7', '土地1建物1車位40', '土地2建物1車位4',\n",
              "       '土地9建物1車位0', '土地3建物4車位0', '土地2建物2車位2', '土地1建物1車位86', '土地3建物5車位0',\n",
              "       '土地1建物4車位11', '土地2建物2車位5', '土地10建物1車位0', '土地7建物1車位0', '土地4建物1車位2',\n",
              "       '土地3建物1車位4', '土地2建物1車位5', '土地2建物6車位14', '土地1建物5車位18', '土地15建物1車位0',\n",
              "       '土地4建物1車位6', '土地4建物2車位0', '土地3建物3車位0', '土地1建物1車位5', '土地1建物3車位2',\n",
              "       '土地2建物1車位7', '土地1建物4車位0', '土地1建物2車位5', '土地1建物3車位6', '土地3建物1車位3',\n",
              "       '土地1建物8車位20', '土地1建物4車位1', '土地2建物1車位6', '土地1建物2車位3', '土地1建物2車位16',\n",
              "       '土地1建物2車位6', '土地2建物1車位8', '土地1建物1車位6', '土地3建物2車位2', '土地3建物4車位4',\n",
              "       '土地6建物1車位1', '土地8建物2車位0', '土地1建物1車位10', '土地2建物2車位3',\n",
              "       '土地1建物28車位235', '土地3建物2車位3', '土地11建物2車位2', '土地12建物1車位0',\n",
              "       '土地3建物1車位30', '土地13建物1車位0', '土地4建物12車位0', '土地3建物2車位1', '土地4建物3車位1',\n",
              "       '土地3建物4車位3', '土地1建物2車位9', '土地3建物1車位6', '土地10建物2車位0', '土地11建物1車位0',\n",
              "       '土地8建物2車位1', '土地1建物1車位18', '土地1建物3車位1', '土地1建物2車位10', '土地2建物4車位0',\n",
              "       '土地2建物2車位4', '土地17建物1車位1', '土地1建物1車位8', '土地1建物7車位36', '土地1建物7車位2',\n",
              "       '土地7建物2車位2', '土地1建物3車位7', '土地4建物4車位7', '土地5建物2車位0', '土地5建物3車位0',\n",
              "       '土地8建物1車位1', '土地6建物3車位0', '土地6建物1車位2', '土地2建物5車位0', '土地2建物3車位4',\n",
              "       '土地1建物4車位4', '土地1建物1車位9', '土地2建物3車位2', '土地1建物1車位11', '土地2建物3車位15',\n",
              "       '土地1建物12車位0', '土地1建物3車位4', '土地4建物2車位1', '土地7建物1車位1', '土地2建物7車位8',\n",
              "       '土地18建物1車位1', '土地4建物1車位3', '土地1建物1車位12', '土地1建物4車位2', '土地2建物3車位0',\n",
              "       '土地3建物3車位45', '土地2建物6車位0', '土地9建物1車位1', '土地13建物2車位0', '土地1建物6車位0',\n",
              "       '土地2建物4車位1', '土地1建物12車位12', '土地2建物7車位0', '土地18建物1車位0', '土地2建物2車位6',\n",
              "       '土地1建物16車位0', '土地1建物9車位16', '土地4建物4車位0', '土地1建物5車位5', '土地3建物3車位1',\n",
              "       '土地2建物3車位75', '土地1建物1車位21', '土地5建物2車位1', '土地1建物3車位3', '土地2建物3車位1',\n",
              "       '土地1建物6車位4', '土地3建物2車位4', '土地1建物11車位0', '土地16建物1車位1', '土地2建物42車位0',\n",
              "       '土地2建物12車位0', '土地1建物3車位21', '土地4建物2車位4', '土地1建物3車位5', '土地1建物3車位8',\n",
              "       '土地0建物1車位3', '土地0建物1車位2', '土地1建物5車位38', '土地3建物7車位105',\n",
              "       '土地1建物5車位17', '土地1建物8車位34', '土地2建物5車位3', '土地8建物4車位0', '土地1建物0車位0',\n",
              "       '土地1建物3車位11', '土地3建物26車位99', '土地4建物1車位4', '土地1建物2車位8', '土地1建物3車位9',\n",
              "       '土地9建物1車位4', '土地9建物2車位0', '土地6建物2車位39', '土地1建物5車位10', '土地1建物42車位0',\n",
              "       '土地1建物54車位0', '土地1建物3車位19', '土地2建物4車位15', '土地16建物1車位2',\n",
              "       '土地1建物6車位5', '土地1建物4車位7', '土地13建物22車位0', '土地1建物7車位0', '土地1建物1車位30',\n",
              "       '土地1建物3車位16', '土地1建物14車位0', '土地1建物5車位1', '土地1建物10車位10',\n",
              "       '土地2建物8車位5', '土地0建物2車位1', '土地1建物7車位145', '土地0建物1車位1', '土地1建物7車位16',\n",
              "       '土地4建物3車位0', '土地7建物2車位1', '土地1建物1車位14', '土地19建物1車位0', '土地10建物4車位0',\n",
              "       '土地1建物10車位0', '土地1建物3車位12', '土地1建物2車位27', '土地1建物3車位77',\n",
              "       '土地16建物1車位0', '土地1建物2車位12', '土地2建物6車位37', '土地4建物2車位3',\n",
              "       '土地1建物1車位16', '土地1建物4車位3', '土地1建物5車位21', '土地1建物1車位17',\n",
              "       '土地11建物1車位2', '土地17建物1車位0', '土地3建物2車位6', '土地6建物2車位2', '土地1建物2車位15',\n",
              "       '土地4建物2車位5', '土地1建物1車位33', '土地1建物4車位5', '土地3建物1車位5', '土地14建物1車位0',\n",
              "       '土地2建物1車位13', '土地2建物2車位8', '土地6建物2車位0', '土地1建物4車位12', '土地4建物6車位0',\n",
              "       '土地1建物16車位96', '土地1建物8車位48', '土地4建物5車位0', '土地2建物7車位6',\n",
              "       '土地1建物5車位20', '土地12建物1車位1', '土地10建物1車位1', '土地2建物7車位7', '土地2建物4車位8',\n",
              "       '土地4建物1車位5', '土地1建物29車位0', '土地2建物1車位10', '土地2建物5車位15', '土地1建物2車位7',\n",
              "       '土地8建物1車位6', '土地1建物4車位14', '土地1建物3車位20', '土地2建物6車位95', '土地7建物2車位6',\n",
              "       '土地1建物7車位21', '土地1建物7車位6', '土地7建物3車位6', '土地1建物55車位122',\n",
              "       '土地2建物14車位4', '土地18建物2車位0', '土地1建物5車位2', '土地6建物1車位4', '土地3建物6車位1',\n",
              "       '土地0建物2車位6', '土地2建物14車位173', '土地2建物15車位0', '土地1建物2車位18',\n",
              "       '土地2建物4車位4', '土地1建物4車位20', '土地1建物8車位2', '土地9建物2車位1', '土地1建物0車位1',\n",
              "       '土地1建物12車位72', '土地37建物1車位0', '土地6建物2車位1', '土地4建物2車位2', '土地2建物3車位3',\n",
              "       '土地2建物7車位4', '土地1建物3車位52', '土地3建物8車位0', '土地1建物12車位87', '土地7建物1車位2',\n",
              "       '土地2建物2車位10', '土地2建物7車位5', '土地2建物9車位0', '土地1建物8車位0', '土地1建物4車位6',\n",
              "       '土地1建物10車位12', '土地1建物4車位25', '土地1建物9車位27', '土地4建物10車位92',\n",
              "       '土地3建物2車位11', '土地25建物1車位0', '土地1建物8車位37', '土地33建物1車位0',\n",
              "       '土地1建物6車位8', '土地3建物1車位7', '土地3建物7車位69', '土地1建物25車位306',\n",
              "       '土地1建物15車位0', '土地13建物1車位1', '土地1建物5車位6', '土地1建物6車位1', '土地1建物6車位12',\n",
              "       '土地1建物7車位18', '土地1建物17車位28', '土地2建物2車位24', '土地1建物3車位17',\n",
              "       '土地2建物11車位27', '土地1建物2車位14', '土地12建物1車位2', '土地8建物1車位2',\n",
              "       '土地5建物2車位2', '土地10建物2車位1', '土地2建物3車位5', '土地3建物3車位3', '土地3建物5車位1',\n",
              "       '土地1建物12車位33', '土地1建物9車位0', '土地1建物6車位25', '土地1建物1車位39',\n",
              "       '土地2建物10車位0', '土地24建物1車位0', '土地3建物3車位2', '土地2建物5車位1', '土地1建物13車位0',\n",
              "       '土地1建物8車位57', '土地4建物1車位7', '土地3建物4車位7', '土地2建物2車位13', '土地1建物4車位15',\n",
              "       '土地1建物2車位20', '土地1建物1車位22', '土地1建物49車位225', '土地3建物4車位2',\n",
              "       '土地2建物1車位9', '土地1建物40車位206', '土地1建物3車位22', '土地1建物57車位0',\n",
              "       '土地1建物52車位448', '土地1建物13車位119', '土地1建物12車位4', '土地5建物8車位0',\n",
              "       '土地21建物1車位1', '土地1建物14車位46', '土地1建物4車位40', '土地1建物7車位20',\n",
              "       '土地29建物1車位0', '土地1建物7車位12', '土地2建物8車位0', '土地1建物14車位182',\n",
              "       '土地3建物30車位8', '土地1建物8車位4', '土地4建物9車位51', '土地2建物4車位5', '土地1建物25車位0',\n",
              "       '土地3建物9車位0', '土地1建物1車位13', '土地2建物7車位14', '土地1建物10車位14',\n",
              "       '土地1建物2車位11', '土地2建物11車位0', '土地12建物2車位0', '土地1建物1車位15',\n",
              "       '土地1建物5車位8', '土地3建物9車位33', '土地0建物10車位0', '土地1建物20車位439',\n",
              "       '土地2建物42車位120'], dtype=object)"
            ]
          },
          "metadata": {},
          "execution_count": 47
        }
      ],
      "source": [
        "df['transaction pen no'].unique()"
      ]
    },
    {
      "cell_type": "code",
      "execution_count": null,
      "metadata": {
        "id": "XKqIfSZ3-Zh2"
      },
      "outputs": [],
      "source": [
        "# change transaction pen no into a string like \\d , \\d, \\d\n",
        "# then split using delimiter into diff columns to count number of units of land, building and parking\n",
        "# replacer = {'土地':'', '建物':',', '車位':','}\n",
        "# for i in range(len(df['transaction pen no']):\n",
        "\n",
        "# df['transaction pen no'].replace(replacers)\n",
        "# for i in range(len(df['transaction pen no'])):\n",
        "#   replacers = {'土地':'', '建物':',', '車位':','}\n",
        "#   df['transaction pen no'] = df['transaction pen no'].iloc[i].replace(replacers)\n",
        "df['transaction pen no'] = df['transaction pen no'].str.replace('土地', '')\n",
        "df['transaction pen no'] = df['transaction pen no'].str.replace('建物', ',')\n",
        "df['transaction pen no'] = df['transaction pen no'].str.replace('車位', ',')\n",
        "df['transaction land units'] = df['transaction pen no'].str.split(',', expand=True)[0]\n",
        "df['transaction building units'] = df['transaction pen no'].str.split(',', expand=True)[1]\n",
        "df['transaction parking units'] = df['transaction pen no'].str.split(',', expand=True)[2]\n",
        "df.drop(['transaction pen no'], axis = 1, inplace = True)"
      ]
    },
    {
      "cell_type": "code",
      "execution_count": null,
      "metadata": {
        "id": "grY1oTgoePSO"
      },
      "outputs": [],
      "source": [
        "# replacing CN to EN categories for main buildling materials\n",
        "# prestressed concrete = PC\n",
        "# 鋼筋混凝土結構造 =? 鋼骨鋼筋混凝土造 =? 鋼筋混凝土造\n",
        "# INCOMPLETE\n",
        "replacers = {'鋼筋混凝土造':'RC', '鋼骨':'SC', '加強磚造':'RB', '鋼骨鋼筋混凝土造':'SRC', '鋼骨鋼筋混凝土造；鋼骨造':'SRC;RC', '磚造':'B', '預力混凝土造':'PC', \n",
        "             '鋼骨混凝土造':'SRC', '土磚石混合造':'C+B', '木石磚造(雜木)':'W', '鋼筋混凝土結構造':'RC', '鋼筋混凝土加強磚造': 'RC + B', '鋼造':'S', '壁式預鑄鋼筋混凝土造':'Wall Precast RC',\n",
        "             '鋼構造':'S', '加強石造':'Reinforced Stone', '見其他登記事項':'Other', '鋼骨ＲＣ造':'SRC', '見使用執照':'Other', '鋼骨造':'S', '木造':'W', '石造':'Stone', '混凝土造':'RC',\n",
        "             '木石磚造（雜木）':'W', '土造':'C'}\n",
        "df['main building materials'] = df['main building materials'].replace(replacers)"
      ]
    },
    {
      "cell_type": "code",
      "execution_count": null,
      "metadata": {
        "colab": {
          "base_uri": "https://localhost:8080/"
        },
        "id": "XpgnLJN3_TfF",
        "outputId": "3db7f783-6875-4356-bb12-7d70127372a1"
      },
      "outputs": [
        {
          "output_type": "stream",
          "name": "stdout",
          "text": [
            "<class 'pandas.core.frame.DataFrame'>\n",
            "RangeIndex: 106898 entries, 0 to 106897\n",
            "Data columns (total 24 columns):\n",
            " #   Column                            Non-Null Count   Dtype         \n",
            "---  ------                            --------------   -----         \n",
            " 0   district                          106898 non-null  object        \n",
            " 1   transaction type                  106898 non-null  object        \n",
            " 2   land shifting total area sqm      106898 non-null  float64       \n",
            " 3   zoning                            106898 non-null  object        \n",
            " 4   transaction date                  106898 non-null  datetime64[ns]\n",
            " 5   floor                             106898 non-null  object        \n",
            " 6   building floor total              106898 non-null  int64         \n",
            " 7   building state                    106898 non-null  object        \n",
            " 8   main building materials           106898 non-null  object        \n",
            " 9   build date                        106898 non-null  datetime64[ns]\n",
            " 10  building shifting total area      106898 non-null  float64       \n",
            " 11  building situation - room         106898 non-null  int64         \n",
            " 12  building situation - hall         106898 non-null  int64         \n",
            " 13  building situation - bath         106898 non-null  int64         \n",
            " 14  building situation - compartment  106898 non-null  object        \n",
            " 15  management committee              106898 non-null  object        \n",
            " 16  parking sqm                       106898 non-null  float64       \n",
            " 17  parking spot price                106898 non-null  int64         \n",
            " 18  main building area                106898 non-null  float64       \n",
            " 19  ancilliary building area          106898 non-null  float64       \n",
            " 20  balcony area                      106898 non-null  float64       \n",
            " 21  transaction land units            106898 non-null  object        \n",
            " 22  transaction building units        106898 non-null  object        \n",
            " 23  transaction parking units         106898 non-null  object        \n",
            "dtypes: datetime64[ns](2), float64(6), int64(5), object(11)\n",
            "memory usage: 19.6+ MB\n"
          ]
        }
      ],
      "source": [
        "df.info()"
      ]
    },
    {
      "cell_type": "code",
      "execution_count": null,
      "metadata": {
        "id": "QsxQE_yA5l4s"
      },
      "outputs": [],
      "source": [
        "df.iloc[:,[21, 22, 23]] = df.iloc[:,[21, 22, 23]].apply(pd.to_numeric)"
      ]
    },
    {
      "cell_type": "code",
      "source": [
        "df['build year'] = pd.DatetimeIndex(df['build date']).year"
      ],
      "metadata": {
        "id": "5uVxTXrldr_X"
      },
      "execution_count": null,
      "outputs": []
    },
    {
      "cell_type": "code",
      "execution_count": null,
      "metadata": {
        "id": "zp3z54cV6-iM",
        "colab": {
          "base_uri": "https://localhost:8080/",
          "height": 1000
        },
        "outputId": "84475bcd-e1b9-4799-8d82-368ba42814b9"
      },
      "outputs": [
        {
          "output_type": "execute_result",
          "data": {
            "text/html": [
              "\n",
              "  <div id=\"df-0a25f726-c6fa-4568-8093-d1502a8bc19a\">\n",
              "    <div class=\"colab-df-container\">\n",
              "      <div>\n",
              "<style scoped>\n",
              "    .dataframe tbody tr th:only-of-type {\n",
              "        vertical-align: middle;\n",
              "    }\n",
              "\n",
              "    .dataframe tbody tr th {\n",
              "        vertical-align: top;\n",
              "    }\n",
              "\n",
              "    .dataframe thead th {\n",
              "        text-align: right;\n",
              "    }\n",
              "</style>\n",
              "<table border=\"1\" class=\"dataframe\">\n",
              "  <thead>\n",
              "    <tr style=\"text-align: right;\">\n",
              "      <th></th>\n",
              "      <th>district</th>\n",
              "      <th>transaction type</th>\n",
              "      <th>land shifting total area sqm</th>\n",
              "      <th>zoning</th>\n",
              "      <th>transaction date</th>\n",
              "      <th>floor</th>\n",
              "      <th>building floor total</th>\n",
              "      <th>building state</th>\n",
              "      <th>main building materials</th>\n",
              "      <th>build date</th>\n",
              "      <th>building shifting total area</th>\n",
              "      <th>building situation - room</th>\n",
              "      <th>building situation - hall</th>\n",
              "      <th>building situation - bath</th>\n",
              "      <th>building situation - compartment</th>\n",
              "      <th>management committee</th>\n",
              "      <th>parking sqm</th>\n",
              "      <th>parking spot price</th>\n",
              "      <th>main building area</th>\n",
              "      <th>ancilliary building area</th>\n",
              "      <th>balcony area</th>\n",
              "      <th>transaction land units</th>\n",
              "      <th>transaction building units</th>\n",
              "      <th>transaction parking units</th>\n",
              "      <th>build year</th>\n",
              "    </tr>\n",
              "  </thead>\n",
              "  <tbody>\n",
              "    <tr>\n",
              "      <th>23</th>\n",
              "      <td>Neihu District</td>\n",
              "      <td>land and building and parking</td>\n",
              "      <td>67.46</td>\n",
              "      <td>residential</td>\n",
              "      <td>2017-09-27</td>\n",
              "      <td>8</td>\n",
              "      <td>10</td>\n",
              "      <td>Apartment (within 10F w/ Elevator)</td>\n",
              "      <td>RC</td>\n",
              "      <td>2013-12-16</td>\n",
              "      <td>364.76</td>\n",
              "      <td>3</td>\n",
              "      <td>2</td>\n",
              "      <td>3</td>\n",
              "      <td>Yes</td>\n",
              "      <td>Yes</td>\n",
              "      <td>85.2</td>\n",
              "      <td>2</td>\n",
              "      <td>154.82</td>\n",
              "      <td>17.44</td>\n",
              "      <td>16.80</td>\n",
              "      <td>1</td>\n",
              "      <td>1</td>\n",
              "      <td>2</td>\n",
              "      <td>2013</td>\n",
              "    </tr>\n",
              "    <tr>\n",
              "      <th>959</th>\n",
              "      <td>Wanhua District</td>\n",
              "      <td>land and building</td>\n",
              "      <td>4.72</td>\n",
              "      <td>commercial</td>\n",
              "      <td>2017-10-23</td>\n",
              "      <td>10</td>\n",
              "      <td>22</td>\n",
              "      <td>Residential Building (11F+ w/ Elevator)</td>\n",
              "      <td>SRC</td>\n",
              "      <td>2017-04-18</td>\n",
              "      <td>62.74</td>\n",
              "      <td>1</td>\n",
              "      <td>1</td>\n",
              "      <td>1</td>\n",
              "      <td>Yes</td>\n",
              "      <td>Yes</td>\n",
              "      <td>0.0</td>\n",
              "      <td>0</td>\n",
              "      <td>38.79</td>\n",
              "      <td>1.11</td>\n",
              "      <td>1.85</td>\n",
              "      <td>1</td>\n",
              "      <td>1</td>\n",
              "      <td>0</td>\n",
              "      <td>2017</td>\n",
              "    </tr>\n",
              "    <tr>\n",
              "      <th>981</th>\n",
              "      <td>Wanhua District</td>\n",
              "      <td>land and building</td>\n",
              "      <td>4.72</td>\n",
              "      <td>commercial</td>\n",
              "      <td>2017-10-23</td>\n",
              "      <td>9</td>\n",
              "      <td>22</td>\n",
              "      <td>Residential Building (11F+ w/ Elevator)</td>\n",
              "      <td>SRC</td>\n",
              "      <td>2017-04-18</td>\n",
              "      <td>62.74</td>\n",
              "      <td>1</td>\n",
              "      <td>1</td>\n",
              "      <td>1</td>\n",
              "      <td>Yes</td>\n",
              "      <td>Yes</td>\n",
              "      <td>0.0</td>\n",
              "      <td>0</td>\n",
              "      <td>38.79</td>\n",
              "      <td>1.11</td>\n",
              "      <td>1.85</td>\n",
              "      <td>1</td>\n",
              "      <td>1</td>\n",
              "      <td>0</td>\n",
              "      <td>2017</td>\n",
              "    </tr>\n",
              "    <tr>\n",
              "      <th>1004</th>\n",
              "      <td>Wanhua District</td>\n",
              "      <td>land and building</td>\n",
              "      <td>4.72</td>\n",
              "      <td>commercial</td>\n",
              "      <td>2017-10-23</td>\n",
              "      <td>8</td>\n",
              "      <td>22</td>\n",
              "      <td>Residential Building (11F+ w/ Elevator)</td>\n",
              "      <td>SRC</td>\n",
              "      <td>2017-04-18</td>\n",
              "      <td>62.74</td>\n",
              "      <td>1</td>\n",
              "      <td>1</td>\n",
              "      <td>1</td>\n",
              "      <td>Yes</td>\n",
              "      <td>Yes</td>\n",
              "      <td>0.0</td>\n",
              "      <td>0</td>\n",
              "      <td>38.79</td>\n",
              "      <td>1.11</td>\n",
              "      <td>1.85</td>\n",
              "      <td>1</td>\n",
              "      <td>1</td>\n",
              "      <td>0</td>\n",
              "      <td>2017</td>\n",
              "    </tr>\n",
              "    <tr>\n",
              "      <th>1014</th>\n",
              "      <td>Wanhua District</td>\n",
              "      <td>land and building</td>\n",
              "      <td>4.72</td>\n",
              "      <td>commercial</td>\n",
              "      <td>2017-10-23</td>\n",
              "      <td>11</td>\n",
              "      <td>22</td>\n",
              "      <td>Residential Building (11F+ w/ Elevator)</td>\n",
              "      <td>SRC</td>\n",
              "      <td>2017-04-18</td>\n",
              "      <td>62.74</td>\n",
              "      <td>1</td>\n",
              "      <td>1</td>\n",
              "      <td>1</td>\n",
              "      <td>Yes</td>\n",
              "      <td>Yes</td>\n",
              "      <td>0.0</td>\n",
              "      <td>0</td>\n",
              "      <td>38.79</td>\n",
              "      <td>1.11</td>\n",
              "      <td>1.85</td>\n",
              "      <td>1</td>\n",
              "      <td>1</td>\n",
              "      <td>0</td>\n",
              "      <td>2017</td>\n",
              "    </tr>\n",
              "    <tr>\n",
              "      <th>...</th>\n",
              "      <td>...</td>\n",
              "      <td>...</td>\n",
              "      <td>...</td>\n",
              "      <td>...</td>\n",
              "      <td>...</td>\n",
              "      <td>...</td>\n",
              "      <td>...</td>\n",
              "      <td>...</td>\n",
              "      <td>...</td>\n",
              "      <td>...</td>\n",
              "      <td>...</td>\n",
              "      <td>...</td>\n",
              "      <td>...</td>\n",
              "      <td>...</td>\n",
              "      <td>...</td>\n",
              "      <td>...</td>\n",
              "      <td>...</td>\n",
              "      <td>...</td>\n",
              "      <td>...</td>\n",
              "      <td>...</td>\n",
              "      <td>...</td>\n",
              "      <td>...</td>\n",
              "      <td>...</td>\n",
              "      <td>...</td>\n",
              "      <td>...</td>\n",
              "    </tr>\n",
              "    <tr>\n",
              "      <th>105040</th>\n",
              "      <td>Beitou District</td>\n",
              "      <td>land and building</td>\n",
              "      <td>22.00</td>\n",
              "      <td>residential</td>\n",
              "      <td>2018-11-16</td>\n",
              "      <td>Other</td>\n",
              "      <td>2</td>\n",
              "      <td>Townhouse</td>\n",
              "      <td>RB</td>\n",
              "      <td>1969-11-03</td>\n",
              "      <td>29.66</td>\n",
              "      <td>5</td>\n",
              "      <td>3</td>\n",
              "      <td>3</td>\n",
              "      <td>Yes</td>\n",
              "      <td>No</td>\n",
              "      <td>0.0</td>\n",
              "      <td>0</td>\n",
              "      <td>29.66</td>\n",
              "      <td>0.00</td>\n",
              "      <td>0.00</td>\n",
              "      <td>1</td>\n",
              "      <td>1</td>\n",
              "      <td>0</td>\n",
              "      <td>1969</td>\n",
              "    </tr>\n",
              "    <tr>\n",
              "      <th>106303</th>\n",
              "      <td>Shilin District</td>\n",
              "      <td>land and building</td>\n",
              "      <td>8.18</td>\n",
              "      <td>commercial</td>\n",
              "      <td>2018-10-25</td>\n",
              "      <td>More than 1 Floor</td>\n",
              "      <td>7</td>\n",
              "      <td>Storefront</td>\n",
              "      <td>RC</td>\n",
              "      <td>1976-08-02</td>\n",
              "      <td>41.83</td>\n",
              "      <td>0</td>\n",
              "      <td>1</td>\n",
              "      <td>1</td>\n",
              "      <td>Yes</td>\n",
              "      <td>Yes</td>\n",
              "      <td>0.0</td>\n",
              "      <td>0</td>\n",
              "      <td>38.95</td>\n",
              "      <td>0.00</td>\n",
              "      <td>0.00</td>\n",
              "      <td>2</td>\n",
              "      <td>1</td>\n",
              "      <td>0</td>\n",
              "      <td>1976</td>\n",
              "    </tr>\n",
              "    <tr>\n",
              "      <th>106356</th>\n",
              "      <td>Zhongzheng District</td>\n",
              "      <td>land and building</td>\n",
              "      <td>27.50</td>\n",
              "      <td>other</td>\n",
              "      <td>2018-12-17</td>\n",
              "      <td>More than 1 Floor</td>\n",
              "      <td>5</td>\n",
              "      <td>Apartment (Within 5F or lower w/o Elevator)</td>\n",
              "      <td>RC</td>\n",
              "      <td>1971-08-26</td>\n",
              "      <td>110.64</td>\n",
              "      <td>9</td>\n",
              "      <td>2</td>\n",
              "      <td>1</td>\n",
              "      <td>Yes</td>\n",
              "      <td>Yes</td>\n",
              "      <td>0.0</td>\n",
              "      <td>0</td>\n",
              "      <td>110.64</td>\n",
              "      <td>0.00</td>\n",
              "      <td>0.00</td>\n",
              "      <td>3</td>\n",
              "      <td>5</td>\n",
              "      <td>0</td>\n",
              "      <td>1971</td>\n",
              "    </tr>\n",
              "    <tr>\n",
              "      <th>106357</th>\n",
              "      <td>Zhongzheng District</td>\n",
              "      <td>land and building</td>\n",
              "      <td>27.50</td>\n",
              "      <td>other</td>\n",
              "      <td>2018-12-17</td>\n",
              "      <td>More than 1 Floor</td>\n",
              "      <td>5</td>\n",
              "      <td>Apartment (Within 5F or lower w/o Elevator)</td>\n",
              "      <td>RC</td>\n",
              "      <td>1971-08-26</td>\n",
              "      <td>110.64</td>\n",
              "      <td>9</td>\n",
              "      <td>2</td>\n",
              "      <td>1</td>\n",
              "      <td>Yes</td>\n",
              "      <td>Yes</td>\n",
              "      <td>0.0</td>\n",
              "      <td>0</td>\n",
              "      <td>110.64</td>\n",
              "      <td>0.00</td>\n",
              "      <td>0.00</td>\n",
              "      <td>3</td>\n",
              "      <td>5</td>\n",
              "      <td>0</td>\n",
              "      <td>1971</td>\n",
              "    </tr>\n",
              "    <tr>\n",
              "      <th>106406</th>\n",
              "      <td>Neihu District</td>\n",
              "      <td>land and building</td>\n",
              "      <td>22.88</td>\n",
              "      <td>residential</td>\n",
              "      <td>2019-01-15</td>\n",
              "      <td>Other</td>\n",
              "      <td>2</td>\n",
              "      <td>Townhouse</td>\n",
              "      <td>RC</td>\n",
              "      <td>1984-02-10</td>\n",
              "      <td>38.66</td>\n",
              "      <td>7</td>\n",
              "      <td>2</td>\n",
              "      <td>3</td>\n",
              "      <td>Yes</td>\n",
              "      <td>No</td>\n",
              "      <td>0.0</td>\n",
              "      <td>0</td>\n",
              "      <td>28.76</td>\n",
              "      <td>6.16</td>\n",
              "      <td>3.74</td>\n",
              "      <td>1</td>\n",
              "      <td>1</td>\n",
              "      <td>0</td>\n",
              "      <td>1984</td>\n",
              "    </tr>\n",
              "  </tbody>\n",
              "</table>\n",
              "<p>4463 rows × 25 columns</p>\n",
              "</div>\n",
              "      <button class=\"colab-df-convert\" onclick=\"convertToInteractive('df-0a25f726-c6fa-4568-8093-d1502a8bc19a')\"\n",
              "              title=\"Convert this dataframe to an interactive table.\"\n",
              "              style=\"display:none;\">\n",
              "        \n",
              "  <svg xmlns=\"http://www.w3.org/2000/svg\" height=\"24px\"viewBox=\"0 0 24 24\"\n",
              "       width=\"24px\">\n",
              "    <path d=\"M0 0h24v24H0V0z\" fill=\"none\"/>\n",
              "    <path d=\"M18.56 5.44l.94 2.06.94-2.06 2.06-.94-2.06-.94-.94-2.06-.94 2.06-2.06.94zm-11 1L8.5 8.5l.94-2.06 2.06-.94-2.06-.94L8.5 2.5l-.94 2.06-2.06.94zm10 10l.94 2.06.94-2.06 2.06-.94-2.06-.94-.94-2.06-.94 2.06-2.06.94z\"/><path d=\"M17.41 7.96l-1.37-1.37c-.4-.4-.92-.59-1.43-.59-.52 0-1.04.2-1.43.59L10.3 9.45l-7.72 7.72c-.78.78-.78 2.05 0 2.83L4 21.41c.39.39.9.59 1.41.59.51 0 1.02-.2 1.41-.59l7.78-7.78 2.81-2.81c.8-.78.8-2.07 0-2.86zM5.41 20L4 18.59l7.72-7.72 1.47 1.35L5.41 20z\"/>\n",
              "  </svg>\n",
              "      </button>\n",
              "      \n",
              "  <style>\n",
              "    .colab-df-container {\n",
              "      display:flex;\n",
              "      flex-wrap:wrap;\n",
              "      gap: 12px;\n",
              "    }\n",
              "\n",
              "    .colab-df-convert {\n",
              "      background-color: #E8F0FE;\n",
              "      border: none;\n",
              "      border-radius: 50%;\n",
              "      cursor: pointer;\n",
              "      display: none;\n",
              "      fill: #1967D2;\n",
              "      height: 32px;\n",
              "      padding: 0 0 0 0;\n",
              "      width: 32px;\n",
              "    }\n",
              "\n",
              "    .colab-df-convert:hover {\n",
              "      background-color: #E2EBFA;\n",
              "      box-shadow: 0px 1px 2px rgba(60, 64, 67, 0.3), 0px 1px 3px 1px rgba(60, 64, 67, 0.15);\n",
              "      fill: #174EA6;\n",
              "    }\n",
              "\n",
              "    [theme=dark] .colab-df-convert {\n",
              "      background-color: #3B4455;\n",
              "      fill: #D2E3FC;\n",
              "    }\n",
              "\n",
              "    [theme=dark] .colab-df-convert:hover {\n",
              "      background-color: #434B5C;\n",
              "      box-shadow: 0px 1px 3px 1px rgba(0, 0, 0, 0.15);\n",
              "      filter: drop-shadow(0px 1px 2px rgba(0, 0, 0, 0.3));\n",
              "      fill: #FFFFFF;\n",
              "    }\n",
              "  </style>\n",
              "\n",
              "      <script>\n",
              "        const buttonEl =\n",
              "          document.querySelector('#df-0a25f726-c6fa-4568-8093-d1502a8bc19a button.colab-df-convert');\n",
              "        buttonEl.style.display =\n",
              "          google.colab.kernel.accessAllowed ? 'block' : 'none';\n",
              "\n",
              "        async function convertToInteractive(key) {\n",
              "          const element = document.querySelector('#df-0a25f726-c6fa-4568-8093-d1502a8bc19a');\n",
              "          const dataTable =\n",
              "            await google.colab.kernel.invokeFunction('convertToInteractive',\n",
              "                                                     [key], {});\n",
              "          if (!dataTable) return;\n",
              "\n",
              "          const docLinkHtml = 'Like what you see? Visit the ' +\n",
              "            '<a target=\"_blank\" href=https://colab.research.google.com/notebooks/data_table.ipynb>data table notebook</a>'\n",
              "            + ' to learn more about interactive tables.';\n",
              "          element.innerHTML = '';\n",
              "          dataTable['output_type'] = 'display_data';\n",
              "          await google.colab.output.renderOutput(dataTable, element);\n",
              "          const docLink = document.createElement('div');\n",
              "          docLink.innerHTML = docLinkHtml;\n",
              "          element.appendChild(docLink);\n",
              "        }\n",
              "      </script>\n",
              "    </div>\n",
              "  </div>\n",
              "  "
            ],
            "text/plain": [
              "                   district  ... build year\n",
              "23           Neihu District  ...       2013\n",
              "959         Wanhua District  ...       2017\n",
              "981         Wanhua District  ...       2017\n",
              "1004        Wanhua District  ...       2017\n",
              "1014        Wanhua District  ...       2017\n",
              "...                     ...  ...        ...\n",
              "105040      Beitou District  ...       1969\n",
              "106303      Shilin District  ...       1976\n",
              "106356  Zhongzheng District  ...       1971\n",
              "106357  Zhongzheng District  ...       1971\n",
              "106406       Neihu District  ...       1984\n",
              "\n",
              "[4463 rows x 25 columns]"
            ]
          },
          "metadata": {},
          "execution_count": 53
        }
      ],
      "source": [
        "# this returns 1 copy of the duplicates\n",
        "df[df.duplicated() == True]"
      ]
    },
    {
      "cell_type": "code",
      "execution_count": null,
      "metadata": {
        "id": "khOJdfxT-VoF"
      },
      "outputs": [],
      "source": [
        "df['price'] = y"
      ]
    },
    {
      "cell_type": "code",
      "execution_count": null,
      "metadata": {
        "id": "3pisOQ_A-EDF"
      },
      "outputs": [],
      "source": [
        "# getting ride of duplicates\n",
        "df = df.drop_duplicates()"
      ]
    },
    {
      "cell_type": "code",
      "source": [
        "# in case we do something later in modeling, we have a cleaned df\n",
        "df2 = df.copy()"
      ],
      "metadata": {
        "id": "jAqWGym9H4fH"
      },
      "execution_count": null,
      "outputs": []
    },
    {
      "cell_type": "code",
      "execution_count": null,
      "metadata": {
        "colab": {
          "base_uri": "https://localhost:8080/"
        },
        "id": "NE_DpE4ls-aV",
        "outputId": "27138c1e-1c3f-4c5e-ca82-6b95b73632eb"
      },
      "outputs": [
        {
          "output_type": "stream",
          "name": "stdout",
          "text": [
            "Find most important features relative to target\n",
            "price                           1.000000\n",
            "main building area              0.920958\n",
            "building shifting total area    0.880721\n",
            "land shifting total area sqm    0.680015\n",
            "balcony area                    0.555492\n",
            "transaction parking units       0.526986\n",
            "transaction building units      0.350646\n",
            "parking sqm                     0.267164\n",
            "parking spot price              0.191393\n",
            "ancilliary building area        0.144774\n",
            "building floor total            0.101994\n",
            "build year                      0.080435\n",
            "building situation - bath       0.057013\n",
            "building situation - room       0.041189\n",
            "transaction land units          0.008025\n",
            "building situation - hall      -0.002499\n",
            "Name: price, dtype: float64\n"
          ]
        }
      ],
      "source": [
        "print(\"Find most important features relative to target\")\n",
        "corr = df2.corr()\n",
        "corr.sort_values([\"price\"], ascending = False, inplace = True)\n",
        "print(corr.price)"
      ]
    },
    {
      "cell_type": "code",
      "source": [
        "plt.scatter(df2['main building area'], df2['price'], c = \"blue\", marker = \"s\")\n",
        "plt.title(\"Looking for outliers\")\n",
        "plt.xlabel(\"main building area\")\n",
        "plt.ylabel(\"price\")\n",
        "plt.show()\n",
        "\n",
        "df2 = df2[df2['main building area'] < 25000]"
      ],
      "metadata": {
        "colab": {
          "base_uri": "https://localhost:8080/",
          "height": 295
        },
        "id": "gy0iaU9F5PcP",
        "outputId": "4761e207-b21f-4b11-c056-bbb45a337984"
      },
      "execution_count": null,
      "outputs": [
        {
          "output_type": "display_data",
          "data": {
            "image/png": "[encoded data removed]",
            "text/plain": [
              "<Figure size 432x288 with 1 Axes>"
            ]
          },
          "metadata": {
            "needs_background": "light"
          }
        }
      ]
    },
    {
      "cell_type": "code",
      "source": [
        "plt.scatter(df2['building shifting total area'], df2['price'], c = \"blue\", marker = \"s\")\n",
        "plt.title(\"Looking for outliers\")\n",
        "plt.xlabel(\"building shifting total area\")\n",
        "plt.ylabel(\"price\")\n",
        "plt.show()"
      ],
      "metadata": {
        "colab": {
          "base_uri": "https://localhost:8080/",
          "height": 295
        },
        "id": "ZZyrNe4M7ZEj",
        "outputId": "fb2acc3d-1b5c-4c4f-8f8b-a5c96eba47e9"
      },
      "execution_count": null,
      "outputs": [
        {
          "output_type": "display_data",
          "data": {
            "image/png": "[encoded data removed]",
            "text/plain": [
              "<Figure size 432x288 with 1 Axes>"
            ]
          },
          "metadata": {
            "needs_background": "light"
          }
        }
      ]
    },
    {
      "cell_type": "code",
      "execution_count": null,
      "metadata": {
        "id": "O1d6DMZVD9K9"
      },
      "outputs": [],
      "source": [
        "# polynomials of the top 10 existing features\n",
        "# df['main building area-2'] = df['main building area'] ** 2\n",
        "# df['main building area-3'] = df['main building area'] ** 3\n",
        "# df['main building area-sq'] = np.sqrt(df['main building area'])\n",
        "# df['building shifting total area-2'] = df['building shifting total area'] ** 2\n",
        "# df['building shifting total area-3'] = df['building shifting total area'] ** 3\n",
        "# df['building shifting total area-sq'] = np.sqrt(df['building shifting total area'])\n",
        "# df['land shifting total area sqm-2'] = df['land shifting total area sqm'] ** 2\n",
        "# df['land shifting total area sqm-3'] = df['land shifting total area sqm'] ** 3\n",
        "# df['land shifting total area sqm-sq'] = np.sqrt(df['land shifting total area sqm'])\n",
        "# df['balcony area-2'] = df['balcony area'] ** 2\n",
        "# df['balcony area-3'] = df['balcony area'] ** 3\n",
        "# df['balcony area-sq'] = np.sqrt(df['balcony area'])\n",
        "# df['transaction parking units-2'] = df['transaction parking units'] ** 2\n",
        "# df['transaction parking units-3'] = df['transaction parking units'] ** 3\n",
        "# df['transaction parking units-sq'] = np.sqrt(df['transaction parking units'])\n",
        "# df['transaction building units-2'] = df['transaction building units'] ** 2\n",
        "# df['transaction building units-3'] = df['transaction building units'] ** 3\n",
        "# df['transaction building units-sq'] = np.sqrt(df['transaction building units'])\n",
        "# df['parking sqm-2'] = df['parking sqm'] ** 2\n",
        "# df['parking sqm-3'] = df['parking sqm'] ** 3\n",
        "# df['parking sqm-sq'] = np.sqrt(df['parking sqm'])\n",
        "# df['ancilliary building area-2'] = df['ancilliary building area'] ** 2\n",
        "# df['ancilliary building area-3'] = df['ancilliary building area'] ** 3\n",
        "# df['ancilliary building area-sq'] = np.sqrt(df['ancilliary building area'])\n",
        "# df['building floor total-2'] = df['building floor total'] ** 2\n",
        "# df['building floor total-3'] = df['building floor total'] ** 3\n",
        "# df['building floor total-sq'] = np.sqrt(df['building floor total'])\n",
        "# df['transaction land units-2'] = df['transaction land units'] ** 2\n",
        "# df['transaction land units-3'] = df['transaction land units'] ** 3\n",
        "# df['transaction land units-sq'] = np.sqrt(df['transaction land units'])"
      ]
    },
    {
      "cell_type": "code",
      "execution_count": null,
      "metadata": {
        "id": "3pOAT6ldvvtr"
      },
      "outputs": [],
      "source": [
        "# keep top 10 numerical based on correlation. parking spot price removed b/c of overlap with parking sqm and \n",
        "# how bargaining may affect the pricing.\n",
        "categorical_features = df2.select_dtypes(include = [\"object\"]).columns\n",
        "numerical_features = df2.select_dtypes(exclude = [\"object\"]).columns\n",
        "numerical_features = numerical_features.drop(['transaction date', 'build date', 'price'])\n",
        "numerical_features = numerical_features.drop(['parking spot price'])"
      ]
    },
    {
      "cell_type": "code",
      "source": [
        "numerical_features"
      ],
      "metadata": {
        "colab": {
          "base_uri": "https://localhost:8080/"
        },
        "id": "l_wK1qj0EGxj",
        "outputId": "68233fc1-3699-4d40-fd22-957e306557d6"
      },
      "execution_count": null,
      "outputs": [
        {
          "output_type": "execute_result",
          "data": {
            "text/plain": [
              "Index(['land shifting total area sqm', 'building floor total',\n",
              "       'building shifting total area', 'building situation - room',\n",
              "       'building situation - hall', 'building situation - bath', 'parking sqm',\n",
              "       'main building area', 'ancilliary building area', 'balcony area',\n",
              "       'transaction land units', 'transaction building units',\n",
              "       'transaction parking units', 'build year'],\n",
              "      dtype='object')"
            ]
          },
          "metadata": {},
          "execution_count": 88
        }
      ]
    },
    {
      "cell_type": "code",
      "execution_count": null,
      "metadata": {
        "colab": {
          "base_uri": "https://localhost:8080/"
        },
        "id": "gD5Zv6SDwKAc",
        "outputId": "210a7b7a-2608-457e-8f02-05c59dacf982"
      },
      "outputs": [
        {
          "output_type": "stream",
          "name": "stdout",
          "text": [
            "Numerical features : 14\n",
            "Categorical features : 8\n"
          ]
        }
      ],
      "source": [
        "print(\"Numerical features : \" + str(len(numerical_features)))\n",
        "print(\"Categorical features : \" + str(len(categorical_features)))\n",
        "df_num = df2[numerical_features]\n",
        "df_cat = df2[categorical_features]"
      ]
    },
    {
      "cell_type": "code",
      "execution_count": null,
      "metadata": {
        "id": "Zv9TjARTuiQ-"
      },
      "outputs": [],
      "source": [
        "# # Log transform of the skewed numerical features to lessen impact of outliers\n",
        "# # Inspired by Alexandru Papiu's script : https://www.kaggle.com/apapiu/house-prices-advanced-regression-techniques/regularized-linear-models\n",
        "# # As a general rule of thumb, a skewness with an absolute value > 0.5 is considered at least moderately skewed\n",
        "# skewness = df_num.apply(lambda x: skew(x))\n",
        "# skewness = skewness[abs(skewness) > 0.5]\n",
        "# print(str(skewness.shape[0]) + \" skewed numerical features to log transform\")\n",
        "# skewed_features = skewness.index\n",
        "# df_num[skewed_features] = np.log1p(df_num[skewed_features])"
      ]
    },
    {
      "cell_type": "code",
      "source": [
        "# df_num[skewed_features]"
      ],
      "metadata": {
        "id": "BrvqUvrjXhf_"
      },
      "execution_count": null,
      "outputs": []
    },
    {
      "cell_type": "code",
      "execution_count": null,
      "metadata": {
        "colab": {
          "base_uri": "https://localhost:8080/"
        },
        "id": "AiYN1qsKIu4W",
        "outputId": "644b1246-8b54-406f-9589-cf7085995973"
      },
      "outputs": [
        {
          "output_type": "stream",
          "name": "stdout",
          "text": [
            "NAs for categorical features in train : 0\n",
            "Remaining NAs for categorical features in train : 0\n"
          ]
        }
      ],
      "source": [
        "# Create dummy features for categorical values via one-hot encoding\n",
        "print(\"NAs for categorical features in train : \" + str(df_cat.isnull().values.sum()))\n",
        "df_cat = pd.get_dummies(df_cat)\n",
        "print(\"Remaining NAs for categorical features in train : \" + str(df_cat.isnull().values.sum()))"
      ]
    },
    {
      "cell_type": "code",
      "execution_count": null,
      "metadata": {
        "id": "FR9bfHCiC0Xk"
      },
      "outputs": [],
      "source": [
        "# Log transform the target for official scoring\n",
        "# to reverse log1p, use np.expm1(df.price)\n",
        "#df2.price = np.log1p(df.price)\n",
        "y = df2.price\n"
      ]
    },
    {
      "cell_type": "markdown",
      "metadata": {
        "id": "k7pJOWv8KgfY"
      },
      "source": [
        "Modeling"
      ]
    },
    {
      "cell_type": "code",
      "execution_count": null,
      "metadata": {
        "colab": {
          "base_uri": "https://localhost:8080/"
        },
        "id": "P1EqNxRzKfa_",
        "outputId": "f14eb4ac-3645-461b-c0ad-5cca673f2091"
      },
      "outputs": [
        {
          "output_type": "stream",
          "name": "stdout",
          "text": [
            "New number of features : 115\n",
            "X_train : (71765, 115)\n",
            "X_test : (30757, 115)\n",
            "y_train : (71765,)\n",
            "y_test : (30757,)\n"
          ]
        }
      ],
      "source": [
        "# Join categorical and numerical features\n",
        "train = pd.concat([df_num, df_cat], axis = 1)\n",
        "print(\"New number of features : \" + str(train.shape[1]))\n",
        "\n",
        "# Partition the dataset in train + validation sets\n",
        "X_train, X_test, y_train, y_test = train_test_split(train, y, test_size = 0.3, random_state = 0)\n",
        "print(\"X_train : \" + str(X_train.shape))\n",
        "print(\"X_test : \" + str(X_test.shape))\n",
        "print(\"y_train : \" + str(y_train.shape))\n",
        "print(\"y_test : \" + str(y_test.shape))"
      ]
    },
    {
      "cell_type": "code",
      "source": [
        "lr_clf = LinearRegression()\n",
        "lr_clf.fit(X_train, y_train)\n",
        "lr_clf.score(X_test, y_test)"
      ],
      "metadata": {
        "colab": {
          "base_uri": "https://localhost:8080/"
        },
        "id": "QlKr3yiIIkqn",
        "outputId": "a45a3f40-de74-4dff-8370-f3a884ba2cff"
      },
      "execution_count": null,
      "outputs": [
        {
          "output_type": "execute_result",
          "data": {
            "text/plain": [
              "0.8357126355620909"
            ]
          },
          "metadata": {},
          "execution_count": 68
        }
      ]
    },
    {
      "cell_type": "code",
      "source": [
        "# model = Ridge()\n",
        "# parameters = {'alpha':[0.01, 0.03, 0.06, 0.1, 0.3, 0.6, 1, 3, 6, 10, 30, 60]}\n",
        "# cv = ShuffleSplit(n_splits = 5, test_size = 0.2, random_state = 0)\n",
        "# ridge = GridSearchCV(model, parameters, cv=cv, return_train_score=False)\n",
        "# ridge.fit(X_train, y_train)\n",
        "# print(ridge.best_params_)\n",
        "# print(ridge.best_score_)"
      ],
      "metadata": {
        "id": "pzwb5xJjQcRJ"
      },
      "execution_count": null,
      "outputs": []
    },
    {
      "cell_type": "code",
      "source": [
        "# best_ridge_model = ridge.best_estimator_\n",
        "# best_ridge_model.fit(X_train, y_train)\n",
        "# best_ridge_model.score(X_test, y_test)"
      ],
      "metadata": {
        "id": "MG_mNJDjYRjc"
      },
      "execution_count": null,
      "outputs": []
    },
    {
      "cell_type": "code",
      "source": [
        "# model = Lasso()\n",
        "# parameters = {'alpha':[0.01, 0.03, 0.06, 0.1, 0.3, 0.6, 1, 3, 6, 10, 30, 60], \n",
        "#               'selection': ['random', 'cyclic'], \n",
        "#               'max_iter':[5000]}\n",
        "# cv = ShuffleSplit(n_splits = 5, test_size = 0.2, random_state = 0)\n",
        "# lasso = GridSearchCV(model, parameters, cv=cv, return_train_score=False)\n",
        "# lasso.fit(X_train, y_train)\n",
        "# print(lasso.best_params_)\n",
        "# print(lasso.best_score_)"
      ],
      "metadata": {
        "id": "XQxKZbKXVfWJ"
      },
      "execution_count": null,
      "outputs": []
    },
    {
      "cell_type": "code",
      "source": [
        "# best_lasso_model = lasso.best_estimator_\n",
        "# best_lasso_model.fit(X_train, y_train)\n",
        "# best_lasso_model.score(X_test, y_test)"
      ],
      "metadata": {
        "id": "8kFe02CqYfu_"
      },
      "execution_count": null,
      "outputs": []
    },
    {
      "cell_type": "code",
      "source": [
        "# model = ElasticNet()\n",
        "# parameters = {'alpha':[0.01, 0.03, 0.06, 0.1, 0.3, 0.6, 1, 3, 6, 10, 30, 60], \n",
        "#               'l1_ratio': [0.1, 0.3, 0.5, 0.6, 0.7, 0.8, 0.85, 0.9, 0.95, 1],\n",
        "#               'max_iter':[5000]}\n",
        "# cv = ShuffleSplit(n_splits = 5, test_size = 0.2, random_state = 0)\n",
        "# enet = GridSearchCV(model, parameters, cv=cv, return_train_score=False)\n",
        "# enet.fit(X_train, y_train)\n",
        "# print(enet.best_params_)\n",
        "# print(enet.best_score_)"
      ],
      "metadata": {
        "id": "4DVjhtjRXNoK"
      },
      "execution_count": null,
      "outputs": []
    },
    {
      "cell_type": "code",
      "source": [
        "# best_enet_model = enet.best_estimator_\n",
        "# best_enet_model.fit(X_train, y_train)\n",
        "# best_enet_model.score(X_test, y_test)"
      ],
      "metadata": {
        "id": "eWR9tvsBYmiz"
      },
      "execution_count": null,
      "outputs": []
    },
    {
      "cell_type": "markdown",
      "source": [
        "Ridge seems to be the best model out of the 4\n",
        "- only slightly better than linear Regression though."
      ],
      "metadata": {
        "id": "qFA-Dz-siOh4"
      }
    },
    {
      "cell_type": "code",
      "source": [
        "# # Plot important coefficients\n",
        "# coefs = pd.Series(best_ridge_model.coef_, index = X_train.columns)\n",
        "# print(\"Ridge picked \" + str(sum(coefs != 0)) + \" features and eliminated the other \" +  \\\n",
        "#       str(sum(coefs == 0)) + \" features\")\n",
        "# imp_coefs = pd.concat([coefs.sort_values().head(10),\n",
        "#                      coefs.sort_values().tail(10)])\n",
        "# imp_coefs.plot(kind = \"barh\")\n",
        "# plt.title(\"Coefficients in the Ridge Model\")\n",
        "# plt.show()"
      ],
      "metadata": {
        "id": "wZnhA471iORM"
      },
      "execution_count": null,
      "outputs": []
    },
    {
      "cell_type": "code",
      "source": [
        "# # Plot important coefficients\n",
        "# coefs = pd.Series(best_lasso_model.coef_, index = X_train.columns)\n",
        "# print(\"Lasso picked \" + str(sum(coefs != 0)) + \" features and eliminated the other \" +  \\\n",
        "#       str(sum(coefs == 0)) + \" features\")\n",
        "# imp_coefs = pd.concat([coefs.sort_values().head(10),\n",
        "#                      coefs.sort_values().tail(10)])\n",
        "# imp_coefs.plot(kind = \"barh\")\n",
        "# plt.title(\"Coefficients in the Lasso Model\")\n",
        "# plt.show()"
      ],
      "metadata": {
        "id": "gPoBwzq8is1o"
      },
      "execution_count": null,
      "outputs": []
    },
    {
      "cell_type": "code",
      "source": [
        "# # Plot important coefficients\n",
        "# coefs = pd.Series(best_enet_model.coef_, index = X_train.columns)\n",
        "# print(\"ElasticNet picked \" + str(sum(coefs != 0)) + \" features and eliminated the other \" +  str(sum(coefs == 0)) + \" features\")\n",
        "# imp_coefs = pd.concat([coefs.sort_values().head(10),\n",
        "#                      coefs.sort_values().tail(10)])\n",
        "# imp_coefs.plot(kind = \"barh\")\n",
        "# plt.title(\"Coefficients in the ElasticNet Model\")\n",
        "# plt.show()"
      ],
      "metadata": {
        "id": "cmU79wI6i4ZK"
      },
      "execution_count": null,
      "outputs": []
    },
    {
      "cell_type": "code",
      "source": [
        " np.where(train.columns== 'district_Daan District')[0][0]"
      ],
      "metadata": {
        "id": "fuNvQGj6mxGS",
        "colab": {
          "base_uri": "https://localhost:8080/"
        },
        "outputId": "6bac476b-17cf-49ba-cd2c-ef9a5c501424"
      },
      "execution_count": null,
      "outputs": [
        {
          "output_type": "execute_result",
          "data": {
            "text/plain": [
              "15"
            ]
          },
          "metadata": {},
          "execution_count": 78
        }
      ]
    },
    {
      "cell_type": "code",
      "source": [
        "def predict_price(lstasqm, floortotal, bsta, bsr, bsh, bsb, parksqm, mainba, ancba, balc, tlu, tbu, tpu, by,\n",
        "                  district, transtype, zoning, floor, buildingstate, materials, bsc, manage):\n",
        "  district_index = np.where(train.columns == district)[0][0]\n",
        "  transtype_index = np.where(train.columns == transtype)[0][0]\n",
        "  zoning_index = np.where(train.columns == zoning)[0][0]\n",
        "  floor_index = np.where(train.columns == floor)[0][0]\n",
        "  bs_index = np.where(train.columns == buildingstate)[0][0]\n",
        "  materials_index = np.where(train.columns == materials)[0][0]\n",
        "  bsc_index = np.where(train.columns == bsc)[0][0]\n",
        "  manage_index = np.where(train.columns == manage)[0][0]\n",
        "  \n",
        "  x = np.zeros(len(train.columns))\n",
        "  x[0] = lstasqm\n",
        "  x[1] = floortotal\n",
        "  x[2] = bsta\n",
        "  x[3] = bsr\n",
        "  x[4] = bsh\n",
        "  x[5] = bsb\n",
        "  x[6] = parksqm\n",
        "  x[7] = mainba\n",
        "  x[8] = ancba\n",
        "  x[9] = balc\n",
        "  x[10] = tlu\n",
        "  x[11] = tbu\n",
        "  x[12] = tpu\n",
        "  x[13] = by\n",
        "\n",
        "  #setting district_index = 1\n",
        "  if district_index >= 0:\n",
        "    x[district_index] = 1\n",
        "  if transtype_index >= 0:\n",
        "    x[transtype_index] = 1\n",
        "  if zoning_index >= 0:\n",
        "    x[zoning_index] = 1\n",
        "  if floor_index >= 0:\n",
        "    x[floor_index] = 1\n",
        "  if bs_index >= 0:\n",
        "    x[bs_index] = 1\n",
        "  if materials_index >= 0:\n",
        "    x[materials_index] = 1\n",
        "  if bsc_index >= 0:\n",
        "    x[bsc_index] = 1\n",
        "  if manage_index >= 0:\n",
        "    x[manage_index] = 1\n",
        "\n",
        "  return lr_clf.predict([x])[0]\n",
        "\n",
        "    \n",
        "  "
      ],
      "metadata": {
        "id": "vwnuLVbZjBvC"
      },
      "execution_count": null,
      "outputs": []
    },
    {
      "cell_type": "code",
      "source": [
        "predict_price(8.65, 13, 41, 1, 1, 1, 0, 26, 0.7, 0, 1, 1, 0, 2020, \n",
        "              'district_Wenshan District', 'transaction type_land and building', 'zoning_urban:other', 'floor_8', \n",
        "              'building state_Apartment (within 10F w/ Elevator)', 'main building materials_SRC', 'building situation - compartment_Yes', 'management committee_Yes')"
      ],
      "metadata": {
        "id": "PI9oh9Z55d5g",
        "colab": {
          "base_uri": "https://localhost:8080/"
        },
        "outputId": "5d77359c-2426-4f82-dfbe-00b78f14a295"
      },
      "execution_count": null,
      "outputs": [
        {
          "output_type": "stream",
          "name": "stderr",
          "text": [
            "/usr/local/lib/python3.7/dist-packages/sklearn/base.py:446: UserWarning: X does not have valid feature names, but LinearRegression was fitted with feature names\n",
            "  \"X does not have valid feature names, but\"\n"
          ]
        },
        {
          "output_type": "execute_result",
          "data": {
            "text/plain": [
              "3527355.489949882"
            ]
          },
          "metadata": {},
          "execution_count": 80
        }
      ]
    },
    {
      "cell_type": "code",
      "source": [
        "df_num.info()"
      ],
      "metadata": {
        "colab": {
          "base_uri": "https://localhost:8080/"
        },
        "id": "_U-OH27FuUyi",
        "outputId": "f3aae0e0-d741-4af9-fe6c-be472cdb9934"
      },
      "execution_count": null,
      "outputs": [
        {
          "output_type": "stream",
          "name": "stdout",
          "text": [
            "<class 'pandas.core.frame.DataFrame'>\n",
            "Int64Index: 102522 entries, 0 to 106897\n",
            "Data columns (total 14 columns):\n",
            " #   Column                        Non-Null Count   Dtype  \n",
            "---  ------                        --------------   -----  \n",
            " 0   land shifting total area sqm  102522 non-null  float64\n",
            " 1   building floor total          102522 non-null  int64  \n",
            " 2   building shifting total area  102522 non-null  float64\n",
            " 3   building situation - room     102522 non-null  int64  \n",
            " 4   building situation - hall     102522 non-null  int64  \n",
            " 5   building situation - bath     102522 non-null  int64  \n",
            " 6   parking sqm                   102522 non-null  float64\n",
            " 7   main building area            102522 non-null  float64\n",
            " 8   ancilliary building area      102522 non-null  float64\n",
            " 9   balcony area                  102522 non-null  float64\n",
            " 10  transaction land units        102522 non-null  int64  \n",
            " 11  transaction building units    102522 non-null  int64  \n",
            " 12  transaction parking units     102522 non-null  int64  \n",
            " 13  build year                    102522 non-null  int64  \n",
            "dtypes: float64(6), int64(8)\n",
            "memory usage: 11.7 MB\n"
          ]
        }
      ]
    },
    {
      "cell_type": "markdown",
      "metadata": {
        "id": "yTkmWGe7qkeB"
      },
      "source": [
        "Linear Regression with Lasso (L1 Penalty)\n",
        "- Least Absolute Shrinkage and Selection Operator\n",
        "- alternative regularization method, simply replace square of weights by sum of absolute value of weights.\n",
        "- In contrast to L2 regularization, L1 regularization yields sparse feature vectors : most feature weights will be zero. Sparsity can be useful in practice if we have a high dimensional dataset with many features that are irrelevant."
      ]
    },
    {
      "cell_type": "markdown",
      "metadata": {
        "id": "uG9yddbt7_t2"
      },
      "source": [
        "RMSE isn't better than ridge but it's fairly close. Lasso only used 50 features (compared to 140 ish for Ridge). Seems to give bigger weight to districts both in positive and negative. Makes sense intuitively."
      ]
    },
    {
      "cell_type": "markdown",
      "metadata": {
        "id": "_0wnVCgF8lkD"
      },
      "source": [
        "Linear Regression with ElasticNet regularization (L1 and L2 penalty)\n",
        "- compromise between ridge and lasso regression. \n",
        "- has L1 penalty to generate sparsity and L2 penalty to overcome some of the limitations of lasso, such as number of variables (lasso can't select more features than it has observations)"
      ]
    },
    {
      "cell_type": "code",
      "source": [
        "# model export\n",
        "import pickle\n",
        "with open('tw_home_price_model.pickle', 'wb') as f:\n",
        "  pickle.dump(lr_clf, f)"
      ],
      "metadata": {
        "id": "avvjljKU8_oT"
      },
      "execution_count": null,
      "outputs": []
    },
    {
      "cell_type": "code",
      "source": [
        "# column exports\n",
        "import json\n",
        "columns = {\n",
        "    'data_columns' : [col.lower() for col in train.columns]\n",
        "}\n",
        "with open('columns.json', 'w') as f:\n",
        "  f.write(json.dumps(columns))"
      ],
      "metadata": {
        "id": "YJI-ZnLb9Gen"
      },
      "execution_count": null,
      "outputs": []
    },
    {
      "cell_type": "code",
      "execution_count": null,
      "metadata": {
        "id": "IOl3qOdfOqgl"
      },
      "outputs": [],
      "source": [
        "#df.to_csv(\"test.csv\")"
      ]
    },
    {
      "cell_type": "code",
      "source": [
        "a = [0, 1, 2, 3, 4, 5, 6, 7, 8]\n",
        "a[0:3]"
      ],
      "metadata": {
        "colab": {
          "base_uri": "https://localhost:8080/"
        },
        "id": "vt7oO51rQaS8",
        "outputId": "6a2407e6-d754-4d16-e9b8-d007e862ca9a"
      },
      "execution_count": null,
      "outputs": [
        {
          "output_type": "execute_result",
          "data": {
            "text/plain": [
              "[0, 1, 2]"
            ]
          },
          "metadata": {},
          "execution_count": 85
        }
      ]
    },
    {
      "cell_type": "code",
      "source": [
        ""
      ],
      "metadata": {
        "id": "OxPAZ4_0QfKq"
      },
      "execution_count": null,
      "outputs": []
    }
  ],
  "metadata": {
    "colab": {
      "collapsed_sections": [],
      "name": "Unfinished TW Real Estate 2016-2021.ipynb",
      "provenance": []
    },
    "kernelspec": {
      "display_name": "Python 3",
      "name": "python3"
    },
    "language_info": {
      "name": "python"
    }
  },
  "nbformat": 4,
  "nbformat_minor": 0
}